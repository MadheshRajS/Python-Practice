{
  "nbformat": 4,
  "nbformat_minor": 0,
  "metadata": {
    "colab": {
      "provenance": []
    },
    "kernelspec": {
      "name": "python3",
      "display_name": "Python 3"
    },
    "language_info": {
      "name": "python"
    }
  },
  "cells": [
    {
      "cell_type": "code",
      "execution_count": null,
      "metadata": {
        "id": "o2xqSFKjyJEU"
      },
      "outputs": [],
      "source": [
        "                                                              #BD-A1"
      ]
    },
    {
      "cell_type": "code",
      "source": [
        "#1.Check if the given two string is anagram or not.\n",
        "str1=input().lower()\n",
        "str2=input().lower()\n",
        "l1=list(str1)\n",
        "l2=list(str2)\n",
        "l1.sort()\n",
        "l2.sort()\n",
        "if l1==l2:\n",
        "  print(\"Given two numbers are anagaram\")\n",
        "else:\n",
        "  print(\"No its not a anagram\")"
      ],
      "metadata": {
        "colab": {
          "base_uri": "https://localhost:8080/"
        },
        "id": "txA9B6gFyQSX",
        "outputId": "4669595f-7763-4c06-e5bb-f41dd4deb336"
      },
      "execution_count": 13,
      "outputs": [
        {
          "output_type": "stream",
          "name": "stdout",
          "text": [
            "ElbOw\n",
            "BelOW\n",
            "Given two numbers are anagaram\n"
          ]
        }
      ]
    },
    {
      "cell_type": "code",
      "source": [
        "#Find max and min values in the dict\n",
        "marks={'madhesh':831,'sri':900,'Vijay':500}\n",
        "m=[]\n",
        "for x,y in marks.items():\n",
        "  m.append(y)\n",
        "print(\"The largest value in the dict is :\" ,max(m),\"\\n The smallest value in the dict is :\" ,min(m))"
      ],
      "metadata": {
        "colab": {
          "base_uri": "https://localhost:8080/"
        },
        "id": "7LD0io321Ry3",
        "outputId": "9f0b4e2f-49f0-4107-e976-6129d9337c4e"
      },
      "execution_count": 24,
      "outputs": [
        {
          "output_type": "stream",
          "name": "stdout",
          "text": [
            "The largest value in the dict is : 900 \n",
            " The smallest value in the dict is : 500\n"
          ]
        }
      ]
    },
    {
      "cell_type": "code",
      "source": [
        "#Progrm to find the avg of list of numbers\n",
        "l=list(map(int,input().split()))\n",
        "print(\"The average value is \",sum(l)/len(l))"
      ],
      "metadata": {
        "colab": {
          "base_uri": "https://localhost:8080/"
        },
        "id": "WPh9lQMq2guv",
        "outputId": "750cd944-d44d-4607-e134-cf761ee002a2"
      },
      "execution_count": 27,
      "outputs": [
        {
          "output_type": "stream",
          "name": "stdout",
          "text": [
            "10 20 30 40 50\n",
            "The average value is  30.0\n"
          ]
        }
      ]
    },
    {
      "cell_type": "code",
      "source": [
        "#Write a Python program to remove all vowels from a string.\n",
        "s=input(\"Enter a string:\")\n",
        "l=list(s)\n",
        "r=\"\"\n",
        "v=['a','e','i','o','u']\n",
        "for i in s:\n",
        "  if i.lower() not in v:\n",
        "    r=r+i\n",
        "print(\"String after removing the vowels is :\",r)"
      ],
      "metadata": {
        "colab": {
          "base_uri": "https://localhost:8080/"
        },
        "id": "MCahLXbj3T2l",
        "outputId": "5dd9f1aa-5402-4a17-e723-48e97fd1589b"
      },
      "execution_count": 31,
      "outputs": [
        {
          "output_type": "stream",
          "name": "stdout",
          "text": [
            "Enter a string:madhesh\n",
            "String after removing the vowels is : mdhsh\n"
          ]
        }
      ]
    },
    {
      "cell_type": "code",
      "source": [
        "#Write a Python function to calculate the factorial of a number using recursion.\n",
        "def fact(n):\n",
        "  if n==0 or n==1:\n",
        "    return 1\n",
        "  else:\n",
        "    return n*fact(n-1)\n",
        "n=int(input(\"Enter a number: \"))\n",
        "res=fact(n)\n",
        "print(res)"
      ],
      "metadata": {
        "colab": {
          "base_uri": "https://localhost:8080/"
        },
        "id": "ge25pSB01qT3",
        "outputId": "f1f27ed6-5717-49ee-9953-d92bc93093cf"
      },
      "execution_count": 34,
      "outputs": [
        {
          "output_type": "stream",
          "name": "stdout",
          "text": [
            "Enter a number: 5\n",
            "120\n"
          ]
        }
      ]
    },
    {
      "cell_type": "code",
      "source": [
        "#Write a Python program to merge two unsorted lists into a single sorted list\n",
        "#using the merge sort algorithm.\n",
        "l1=[5,4,3,2,1]\n",
        "l2=[9,8,7,6]\n",
        "l3=l1+l2\n",
        "l3.sort()\n",
        "print(l3)"
      ],
      "metadata": {
        "colab": {
          "base_uri": "https://localhost:8080/"
        },
        "id": "UodrIc3p6Nc5",
        "outputId": "7854fe73-4dea-4b60-84c6-7ee5886898a1"
      },
      "execution_count": 36,
      "outputs": [
        {
          "output_type": "stream",
          "name": "stdout",
          "text": [
            "[1, 2, 3, 4, 5, 6, 7, 8, 9]\n"
          ]
        }
      ]
    },
    {
      "cell_type": "code",
      "source": [
        "#Write a Python program to find the GCD (Greatest Common Divisor) of two numbers.\n",
        "def find_gcd(a, b):\n",
        "    while b:\n",
        "        a, b = b, a % b\n",
        "    return abs(a)\n",
        "num1 = int(input(\"Enter the first number: \"))\n",
        "num2 = int(input(\"Enter the second number: \"))\n",
        "gcd_result = find_gcd(num1, num2)\n",
        "print(f\"The GCD of {num1} and {num2} is {gcd_result}.\")"
      ],
      "metadata": {
        "colab": {
          "base_uri": "https://localhost:8080/"
        },
        "id": "ShG-Xy7O7oEn",
        "outputId": "32f9afab-5204-4bd2-d517-d0fdc0b49bf2"
      },
      "execution_count": 37,
      "outputs": [
        {
          "output_type": "stream",
          "name": "stdout",
          "text": [
            "Enter the first number: 24\n",
            "Enter the second number: 36\n",
            "The GCD of 24 and 36 is 12.\n"
          ]
        }
      ]
    },
    {
      "cell_type": "code",
      "source": [
        "#Write a Python program to find the second-largest element in a list.\n",
        "l=[5,7,9,2,55]\n",
        "l.sort()\n",
        "print(l[-2])"
      ],
      "metadata": {
        "colab": {
          "base_uri": "https://localhost:8080/"
        },
        "id": "D-NfN0US71HF",
        "outputId": "d168bd42-535a-4e78-a412-d667d0ce5987"
      },
      "execution_count": 38,
      "outputs": [
        {
          "output_type": "stream",
          "name": "stdout",
          "text": [
            "9\n"
          ]
        }
      ]
    },
    {
      "cell_type": "code",
      "source": [
        "#Write a Python program to find the longest common subsequence between two strings using dynamic programming.\n",
        "def longest_common_subsequence(str1, str2):\n",
        "    m = len(str1)\n",
        "    n = len(str2)\n",
        "\n",
        "    # Initialize a 2D table to store the lengths of LCS for all substrings\n",
        "    dp = [[0] * (n + 1) for _ in range(m + 1)]\n",
        "\n",
        "    # Fill the table using dynamic programming approach\n",
        "    for i in range(1, m + 1):\n",
        "        for j in range(1, n + 1):\n",
        "            if str1[i - 1] == str2[j - 1]:\n",
        "                dp[i][j] = dp[i - 1][j - 1] + 1\n",
        "            else:\n",
        "                dp[i][j] = max(dp[i - 1][j], dp[i][j - 1])\n",
        "    # Backtrack to find the LCS\n",
        "    lcs_length = dp[m][n]\n",
        "    lcs = []\n",
        "    i, j = m, n\n",
        "    while lcs_length > 0 and i > 0 and j > 0:\n",
        "        if str1[i - 1] == str2[j - 1]:\n",
        "            lcs.append(str1[i - 1])\n",
        "            i -= 1\n",
        "            j -= 1\n",
        "            lcs_length -= 1\n",
        "        elif dp[i - 1][j] > dp[i][j - 1]:\n",
        "            i -= 1\n",
        "        else:\n",
        "            j -= 1\n",
        "    return ''.join(reversed(lcs))\n",
        "string1 = \"ABCDGH\"\n",
        "string2 = \"AEDFHR\"\n",
        "result = longest_common_subsequence(string1, string2)\n",
        "print(\"Longest Common Subsequence:\", result)"
      ],
      "metadata": {
        "colab": {
          "base_uri": "https://localhost:8080/"
        },
        "id": "GwWO34Mh8I1T",
        "outputId": "ff44d739-4a32-4a12-fb34-2d8bc9850fce"
      },
      "execution_count": 39,
      "outputs": [
        {
          "output_type": "stream",
          "name": "stdout",
          "text": [
            "Longest Common Subsequence: ADH\n"
          ]
        }
      ]
    }
  ]
}