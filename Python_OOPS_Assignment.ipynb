{
  "nbformat": 4,
  "nbformat_minor": 0,
  "metadata": {
    "colab": {
      "provenance": []
    },
    "kernelspec": {
      "name": "python3",
      "display_name": "Python 3"
    },
    "language_info": {
      "name": "python"
    }
  },
  "cells": [
    {
      "cell_type": "code",
      "execution_count": null,
      "metadata": {
        "id": "OiZ7SnrJ_sxz"
      },
      "outputs": [],
      "source": [
        "'''\n",
        "Q1. What is the purpose of Python's OOP?\n",
        "'''\n",
        "                In Python OOPs we can use objects and classes which is used to implement real world entities like polymorphism,inheritance,encapsulation.\n",
        "                It also focuses on reusable of code.\n",
        "                Main focus is solving the problems by creating objects. "
      ]
    },
    {
      "cell_type": "code",
      "source": [
        "'''\n",
        "Q2. Where does an inheritance search look for an attribute?\n",
        "'''\n",
        "                Inheritance is used create a class and attain the attributes and methods from the other class.\n",
        "                Firstly the inheritance will look for an attribute in \n",
        "                                                                        -instance object\n",
        "                                                                        -then the class the instance was craeted from \n",
        "                                                                        -then in all the higher classes(from low to upper)\n"
      ],
      "metadata": {
        "id": "QDl6FyJcBHsx"
      },
      "execution_count": null,
      "outputs": []
    },
    {
      "cell_type": "code",
      "source": [
        "'''\n",
        "Q3. How do you distinguish between a class object and an instance object?\n",
        "'''\n",
        "                Class objects are created inside a class but outside the fucntion.\n",
        "                Instance objects are created inside the fucntion(__init__)."
      ],
      "metadata": {
        "id": "S0zrKJSOGDFa"
      },
      "execution_count": null,
      "outputs": []
    },
    {
      "cell_type": "code",
      "source": [
        "'''\n",
        "Q4. What makes the first argument in a class’s method function special?\n",
        "'''\n",
        "                The first argument in a class method is \"self\".\n",
        "                'self' parameter is a reference to the current instance of a class.\n",
        "                It is used to access variables that belongs to the class."
      ],
      "metadata": {
        "id": "KlXI97sWGnD6"
      },
      "execution_count": null,
      "outputs": []
    },
    {
      "cell_type": "code",
      "source": [
        "'''\n",
        "Q5. What is the purpose of the init method?\n",
        "'''\n",
        "                In python it lets the class to initialize the object attributes and has no other purpose(such as business logics)."
      ],
      "metadata": {
        "id": "frz1dcH3KmQW"
      },
      "execution_count": null,
      "outputs": []
    },
    {
      "cell_type": "code",
      "source": [
        "'''\n",
        "Q6. What is the process for creating a class instance?\n",
        "'''\n",
        "                Instance of a python is called as a object.\n",
        "                  -Class contains data members and methods\n",
        "                  -And these can be accessed using instance(object) of that class."
      ],
      "metadata": {
        "id": "AUnGXRRxND0N"
      },
      "execution_count": null,
      "outputs": []
    },
    {
      "cell_type": "code",
      "source": [
        "'''\n",
        "Q7. What is the process for creating a class?\n",
        "'''\n",
        "                To create class use the keyword called\"class \"\n",
        "                Eg:\n",
        "                    class Football:\n",
        "                      def xyz():\n",
        "                        '''\n",
        "                        '''\n",
        "                      def abc():\n",
        "                        '''\n",
        "                        '''"
      ],
      "metadata": {
        "id": "du3QThTTOqsc"
      },
      "execution_count": null,
      "outputs": []
    },
    {
      "cell_type": "code",
      "source": [
        "'''\n",
        "Q8. How would you define the superclasses of a class?\n",
        "'''\n",
        "                A superclass is the class in which many sibclasses can be created.\n",
        "                The subclasses inherits the properties of superclass.\n",
        "                Fro eg:Football is a superclass,its sub classes are Barcelona,Madrid"
      ],
      "metadata": {
        "id": "ZycAZUDLPOZx"
      },
      "execution_count": null,
      "outputs": []
    },
    {
      "cell_type": "code",
      "source": [
        "'''\n",
        "Q9. What is the relationship between classes and modules?\n",
        "'''\n",
        "              Modules in pyhton contains either classes or just function.Simple way to organize a code.You can simply import it\n",
        "              Classes are the blueprint to create instance of the class,create subclasses we can use inheritance,polymorphism.\n"
      ],
      "metadata": {
        "id": "wq0gTva7WftS"
      },
      "execution_count": null,
      "outputs": []
    },
    {
      "cell_type": "code",
      "source": [
        "'''\n",
        "Q10. How do you make instances and classes?\n",
        "'''\n",
        "              classes are used using  a key word called \"key\"\n",
        "              class Football:\n",
        "                      def __init__(self,name,age):\n",
        "                        self.name=name\n",
        "                        self.age=age\n",
        "                      def xyz():\n",
        "                        '''\n",
        "                        '''\n",
        "                      def abc():\n",
        "                        '''\n",
        "                        '''\n",
        "              Instance belong to class ,ie the object of a class in here the object is \"f\"\n",
        "              f=football(\"Messi\",45) #creating instances\n",
        "              "
      ],
      "metadata": {
        "id": "SeBMDB1eYcWP"
      },
      "execution_count": null,
      "outputs": []
    },
    {
      "cell_type": "code",
      "source": [
        "'''\n",
        "Q11. Where and how should be class attributes created?\n",
        "'''\n",
        "              Class attributes belong to the class itself they will be shared by all the instances. \n",
        "              Such attributes are defined in the class body parts usually at the top, for legibility.\n",
        "              Eg:\n",
        "              class Football:\n",
        "                f=0#class attribute\n",
        "                def xyz():\n",
        "                '''\n",
        "                '''\n"
      ],
      "metadata": {
        "id": "1jqd5l-bbAfO"
      },
      "execution_count": null,
      "outputs": []
    },
    {
      "cell_type": "code",
      "source": [
        "'''\n",
        "Q12. Where and how are instance attributes created?\n",
        "'''\n",
        "                instance attributes are created inside __init__ function.\n",
        "                class Football:\n",
        "                      def __init__(self,name,age): #instance attributes\n",
        "                        self.name=name\n",
        "                        self.age=age\n",
        "                      def xyz():\n",
        "                        '''\n",
        "                        '''\n",
        "                      def abc():\n",
        "                        '''\n",
        "                        '''"
      ],
      "metadata": {
        "id": "CilNrMMJdeJp"
      },
      "execution_count": null,
      "outputs": []
    },
    {
      "cell_type": "code",
      "source": [
        "'''\n",
        "Q13. What does the term \"self\" in a Python class mean?\n",
        "'''\n",
        "                The self parameter is a reference to the current instance of the class, and is used to access variables that belongs to the class.\n"
      ],
      "metadata": {
        "id": "tYlcsNmHd7eE"
      },
      "execution_count": null,
      "outputs": []
    },
    {
      "cell_type": "code",
      "source": [
        "'''\n",
        "Q14. How does a Python class handle operator overloading?\n",
        "'''\n",
        "                In python operator overloading means extended meaning beyond their predefined operational meaning.\n",
        "                For eg:\n",
        "                    + is used for addition of two number and concatenation of two strings."
      ],
      "metadata": {
        "id": "asym_HWEm0ws"
      },
      "execution_count": null,
      "outputs": []
    },
    {
      "cell_type": "code",
      "source": [
        "'''\n",
        "Q15. When do you consider allowing operator overloading of your classes?\n",
        "                \n",
        "'''\n",
        "                Usually when I want to set up an easy way to compare classes. Say we have two instances of Person:\n",
        "                p1 = Person()\n",
        "                p2 = Person()\n",
        "                if p1.age==p2.age will consider operator overloading.\n"
      ],
      "metadata": {
        "id": "_t-3oP7pnSLK"
      },
      "execution_count": null,
      "outputs": []
    },
    {
      "cell_type": "code",
      "source": [
        "'''\n",
        "Q16. What is the most popular form of operator overloading?\n",
        "'''\n",
        "              The most popular operator overlaoding in python is\"+\"\n",
        "              In integers will be act as an addition\n",
        "              In strings it will be act as an concatenation."
      ],
      "metadata": {
        "id": "lE5R7aMtn9pR"
      },
      "execution_count": null,
      "outputs": []
    },
    {
      "cell_type": "code",
      "source": [
        "'''\n",
        "Q17. What are the two most important concepts to grasp in order to comprehend Python OOP code?\n",
        "'''\n",
        "              1.inheritance\n",
        "              2.Polymorphism\n",
        "              These two will help in flexibilty of the code,easy to maintain the code."
      ],
      "metadata": {
        "id": "GS0smpkm5V13"
      },
      "execution_count": null,
      "outputs": []
    },
    {
      "cell_type": "code",
      "source": [
        "'''\n",
        "Q18. Describe three applications for exception processing.\n",
        "'''\n",
        "                The application of exception processing are:\n",
        "                1.Syntax error.\n",
        "                2.Excpetion\n",
        "                3.Logical errors"
      ],
      "metadata": {
        "id": "O4ZN09JE5s40"
      },
      "execution_count": null,
      "outputs": []
    },
    {
      "cell_type": "code",
      "source": [
        "'''\n",
        "Q19. What happens if you don't do something extra to treat an exception?\n",
        "'''\n",
        "                If we dont treat the expception , the program will be terminated.\n",
        "                The code past the line will not be executed."
      ],
      "metadata": {
        "id": "ft559Tfr6DEP"
      },
      "execution_count": null,
      "outputs": []
    },
    {
      "cell_type": "code",
      "source": [
        "'''\n",
        "Q20. What are your options for recovering from an exception in your script?\n",
        "'''\n",
        "                To recover from the excetion clause:\n",
        "                If try clasue is failed exception will be working\n",
        "                If exception is also not occured we can add else statement after exception clause."
      ],
      "metadata": {
        "id": "rVFVZp6Y78_U"
      },
      "execution_count": null,
      "outputs": []
    },
    {
      "cell_type": "code",
      "source": [
        "'''\n",
        "Q21. Describe two methods for triggering exceptions in your script.\n",
        "'''\n",
        "                using\n",
        "                -Try #catches exception raised by the program\n",
        "                -Raise #trugger the exception manually using custom exception"
      ],
      "metadata": {
        "id": "fpCf1RS98kFD"
      },
      "execution_count": null,
      "outputs": []
    },
    {
      "cell_type": "code",
      "source": [
        "'''\n",
        "Q22. Identify two methods for specifying actions to be executed at termination time, regardless of whether or not an exception exists.\n",
        "'''\n",
        "                -Finally #Finally block always executes irrespective of an exception being thrown or not\n",
        "                 -else"
      ],
      "metadata": {
        "id": "yA8KqrH39AU5"
      },
      "execution_count": null,
      "outputs": []
    },
    {
      "cell_type": "code",
      "source": [
        "'''\n",
        "Q23. What is the purpose of the try statement?\n",
        "'''\n",
        "                  The try block lets you test a block of code for errors\n",
        "                  It also catches the error occured"
      ],
      "metadata": {
        "id": "jIyO2tP099Vw"
      },
      "execution_count": null,
      "outputs": []
    },
    {
      "cell_type": "code",
      "source": [
        "'''\n",
        "Q24. What are the two most popular try statement variations?\n",
        "'''\n",
        "                  1)try-except\n",
        "                  2)try-except-excpet"
      ],
      "metadata": {
        "id": "vF-vEjg0-Zrn"
      },
      "execution_count": null,
      "outputs": []
    },
    {
      "cell_type": "code",
      "source": [
        "'''\n",
        "Q25. What is the purpose of the raise statement?\n",
        "'''\n",
        "                  It is used to raise an exception or error.\n",
        "                  It stops the flow of the program is it has errors."
      ],
      "metadata": {
        "id": "WmS5y6uQ-ukG"
      },
      "execution_count": null,
      "outputs": []
    },
    {
      "cell_type": "code",
      "source": [
        "'''\n",
        "Q26. What does the assert statement do, and what other statement is it like?\n",
        "'''\n",
        "                    assert is used when debugging the code.\n",
        "                    It will test if your condition in your code return True else it willl raise an assert exception."
      ],
      "metadata": {
        "id": "DbKhpcsoOhAk"
      },
      "execution_count": null,
      "outputs": []
    },
    {
      "cell_type": "code",
      "source": [
        "'''\n",
        "Q27. What is the purpose of the with/as argument, and what other statement is it like?\n",
        "'''\n",
        "                    In Python, with statement is used in exception handling to make the code cleaner and much more readable. \n",
        "                    It simplifies the management of common resources like file streams"
      ],
      "metadata": {
        "id": "cGT8r7fvQXYa"
      },
      "execution_count": null,
      "outputs": []
    },
    {
      "cell_type": "code",
      "source": [
        "'''\n",
        "Q28. What are *args, **kwargs?\n",
        "'''\n",
        "                    *args#non key word argument,allows you to take in more arguments than the number of formal arguments\n",
        "                    **kwargs#keyword arguments,it accepts keyworded variable-length argument passed by the function call\n",
        "                    It is used when we are unsure about the number of arguments to pass in the function."
      ],
      "metadata": {
        "id": "p5N0ffDRRUMR"
      },
      "execution_count": null,
      "outputs": []
    },
    {
      "cell_type": "code",
      "source": [
        "'''\n",
        "Q29 .How can I pass optional or keyword parameters from one function to another?\n",
        "'''\n",
        "                  with using keyword arguments\n",
        "                  can also use *args.\n"
      ],
      "metadata": {
        "id": "AK1muCtcV9nW"
      },
      "execution_count": null,
      "outputs": []
    },
    {
      "cell_type": "code",
      "source": [
        "'''\n",
        "Q30. What are Lambda Functions?\n",
        "'''\n",
        "                      It is a anonymous function(the function without a name) that can take any number of arguments,but return only one expression."
      ],
      "metadata": {
        "id": "QNH1X7AYWs3l"
      },
      "execution_count": null,
      "outputs": []
    },
    {
      "cell_type": "code",
      "source": [
        "'''\n",
        "Q31. Explain Inheritance in Python with an example?\n",
        "'''\n",
        "                      #It refers to defining a new class with little or no modification to an existing class.\n",
        "                      #The new class is called derived or child class and the one from which it inherits is called the base or parent class\n",
        "class Football:\n",
        "  def __init__(self,name,age):\n",
        "    self.name=name\n",
        "    self.age=age\n",
        "  def disp(self):\n",
        "    print(\"Name:\",self.name,\"Age\",self.age)\n",
        "class Barcelona(Football):\n",
        "  #def Football.__init__(self):\n",
        "  def about(self):\n",
        "    print(\"it is a great club\")\n",
        "#f=Football()#with base class instance we cant access derived class methods\n",
        "b=Barcelona(\"Ronaldo\",37)\n",
        "b.disp()\n",
        "b.about()"
      ],
      "metadata": {
        "colab": {
          "base_uri": "https://localhost:8080/"
        },
        "id": "hBjxl0VeXFNd",
        "outputId": "a5f33cbd-2805-4409-d7af-467c6d106ba1"
      },
      "execution_count": 7,
      "outputs": [
        {
          "output_type": "stream",
          "name": "stdout",
          "text": [
            "Name: Ronaldo Age 37\n",
            "it is a great club\n"
          ]
        }
      ]
    },
    {
      "cell_type": "code",
      "source": [
        "'''\n",
        "Q32. Suppose class C inherits from classes A and B as class C(A,B).Classes A and B both have their own versions of method func().\n",
        "     If we call func() from an object of class C, which version gets invoked?\n",
        "'''\n",
        "                                              #A will be called first\n",
        "class A():\n",
        "  def func(self):\n",
        "    print('in A')\n",
        "class B():\n",
        "  def func(self):\n",
        "    print('in B')\n",
        "class C(A, B):\n",
        "  pass\n",
        "c=C()\n",
        "c.func()\n"
      ],
      "metadata": {
        "id": "VTQjF7OKXy4A",
        "colab": {
          "base_uri": "https://localhost:8080/"
        },
        "outputId": "b5416412-2607-4583-ec55-21fc2c44b9b2"
      },
      "execution_count": 12,
      "outputs": [
        {
          "output_type": "stream",
          "name": "stdout",
          "text": [
            "in A\n"
          ]
        }
      ]
    },
    {
      "cell_type": "code",
      "source": [
        "'''\n",
        "Q33. Which methods/functions do we use to determine the type of instance and inheritance?\n",
        "'''\n",
        "                              -isinstance() is used to check the instance type.\n",
        "                              -issubclass() is used to check the inheritance"
      ],
      "metadata": {
        "id": "9HFFh_95iQF1"
      },
      "execution_count": null,
      "outputs": []
    },
    {
      "cell_type": "code",
      "source": [
        "'''\n",
        "Q34.Explain the use of the 'nonlocal' keyword in Python.\n",
        "'''\n",
        "                                The nonlocal keyword is used to work with variables inside nested functions, where the variable should not belong to the inner function."
      ],
      "metadata": {
        "id": "3STte5zCifik"
      },
      "execution_count": null,
      "outputs": []
    },
    {
      "cell_type": "code",
      "source": [
        "'''\n",
        "Q35. What is the global keyword?\n",
        "'''\n",
        "                                  the global keyword allows us to modify the variable outside of the current scope. \n",
        "                                  It is used to create a global variable and make changes to the variable in a local context."
      ],
      "metadata": {
        "id": "P8s72N7dirKT"
      },
      "execution_count": null,
      "outputs": []
    }
  ]
}