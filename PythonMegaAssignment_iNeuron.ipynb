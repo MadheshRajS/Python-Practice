{
  "nbformat": 4,
  "nbformat_minor": 0,
  "metadata": {
    "colab": {
      "provenance": [],
      "collapsed_sections": []
    },
    "kernelspec": {
      "name": "python3",
      "display_name": "Python 3"
    },
    "language_info": {
      "name": "python"
    }
  },
  "cells": [
    {
      "cell_type": "code",
      "source": [
        "'''Name:Madhesh Raj S\n",
        "   MailId:madheshraj.new1@gmail.com\n",
        "'''"
      ],
      "metadata": {
        "id": "W7rdEqPyNDBO"
      },
      "execution_count": null,
      "outputs": []
    },
    {
      "cell_type": "code",
      "execution_count": null,
      "metadata": {
        "id": "pjwp_QeWuEcV"
      },
      "outputs": [],
      "source": [
        "'''Q1. Why do we call Python as a general purpose and high-level programming language?\n",
        "            Python is considered as a general purpose language as it is widley used in applicaiton such as data science,web development,machine learning,etc.\n",
        "            It is called as a high level language as it an interpreted language and it is easy for humans to understand.'''"
      ]
    },
    {
      "cell_type": "code",
      "source": [
        "'''Q2. Why is Python called a dynamically typed language?\n",
        "            It is called as dynmaically types langauge as it doesnt know about the type of variable until the code is run.'''"
      ],
      "metadata": {
        "id": "AzvZBKAe1TUg"
      },
      "execution_count": null,
      "outputs": []
    },
    {
      "cell_type": "code",
      "source": [
        "'''Q3. List some pros and cons of Python programming language?\n",
        "Pro\n",
        "            Easy to use and fast to develop\n",
        "            Has many libraries\n",
        "Cons\n",
        "            No Multithreading\n",
        "            High memory consumption '''"
      ],
      "metadata": {
        "id": "MFhC1_mY1qeG"
      },
      "execution_count": null,
      "outputs": []
    },
    {
      "cell_type": "code",
      "source": [
        "''' Q4. In what all domains can we use Python?\n",
        "            DataScience\n",
        "            Machine Learning\n",
        "            Artifical Intelligence\n",
        "            Web Development\n",
        "            Deep Learning '''"
      ],
      "metadata": {
        "id": "aCRmPTSW2QTM"
      },
      "execution_count": null,
      "outputs": []
    },
    {
      "cell_type": "code",
      "source": [
        "'''Q5. What are variable and how can we declare them?\n",
        "            In python we dont neet to decalre a variable,A variable will be created at a moment when we assign a value to it\n",
        "            a='Raj' #string\n",
        "            b=7 #int\n",
        "            c=7.0 #float "
      ],
      "metadata": {
        "id": "xPlm2A5h2thq"
      },
      "execution_count": null,
      "outputs": []
    },
    {
      "cell_type": "code",
      "source": [
        "'''Q6. How can we take an input from the user in Python?\n",
        "            By using the python function called \"input()\"  '''\n",
        "Name=input(\"Enter the name\")\n",
        "Age=int(input(\"Enter the age\"))"
      ],
      "metadata": {
        "colab": {
          "base_uri": "https://localhost:8080/"
        },
        "id": "L2JhVn5y3a32",
        "outputId": "380129e0-c4eb-41e6-89ca-631bc84a4e2e"
      },
      "execution_count": null,
      "outputs": [
        {
          "name": "stdout",
          "output_type": "stream",
          "text": [
            "Enter the nameMadhesh Raj\n",
            "Enter the age23\n"
          ]
        }
      ]
    },
    {
      "cell_type": "code",
      "source": [
        "'''Q7. What is the default datatype of the value that has been taken as an input using input() function?\n",
        "            By default the input() function data type will be of \"string\" datatype. '''"
      ],
      "metadata": {
        "id": "qbWB84i535rD"
      },
      "execution_count": null,
      "outputs": []
    },
    {
      "cell_type": "code",
      "source": [
        "'''Q8. What is type casting?\n",
        "            Type casting is used to convert from one type to another type.Let us consider if the variable a=10 we can convert the varibale a to string \n",
        "            by using str function eg:aa=str(a) then the integer data type will be converted into string datatype.'''"
      ],
      "metadata": {
        "id": "-ewPqYg45N7N"
      },
      "execution_count": null,
      "outputs": []
    },
    {
      "cell_type": "code",
      "source": [
        "'''Q9. Can we take more than one input from the user using single input() function? If yes, how? If no, why?\n",
        "            No,We cant get multiple inputs with the help of single input() function but with the help of split() function we can achieve it.\n",
        "            x,y=input().split() #it will endind up by taking the two inputs.'''"
      ],
      "metadata": {
        "id": "nIoA80ZJ5wVt"
      },
      "execution_count": null,
      "outputs": []
    },
    {
      "cell_type": "code",
      "source": [
        "'''Q10. What are keywords?\n",
        "            Keyswords are specially reserved words in python the key words are (and,or,if,else,True,False) '''"
      ],
      "metadata": {
        "id": "j2MdoIS387gk"
      },
      "execution_count": null,
      "outputs": []
    },
    {
      "cell_type": "code",
      "source": [
        "'''Q11. Can we use keywords as a variable? Support your answer with reason.\n",
        "            No keys words cant be used as a variable ,as it is used to define the syntax of the coding.'''"
      ],
      "metadata": {
        "id": "ge_IHa_o9SIq"
      },
      "execution_count": null,
      "outputs": []
    },
    {
      "cell_type": "code",
      "source": [
        "'''Q12. What is indentation? What's the use of indentaion in Python?\n",
        "            indentation means space at the begining of the code in python indentation is used to indicate the block of a code.'''"
      ],
      "metadata": {
        "id": "3gAaIJV99kyF"
      },
      "execution_count": null,
      "outputs": []
    },
    {
      "cell_type": "code",
      "source": [
        "'''Q13. How can we throw some output in Python?\n",
        "            In python the output can be throw with the help of print() fucntion\n",
        "            in terms of file it is achieved using write() function'''"
      ],
      "metadata": {
        "id": "VfLdLkEN90ZI"
      },
      "execution_count": null,
      "outputs": []
    },
    {
      "cell_type": "code",
      "source": [
        "'''Q14. What are operators in Python?\n",
        "            Operators are special symbols in Python that carry out arithmetic or logical computation.\n",
        "            Assignement operator(+,-,%,/,//)\n",
        "            Logical Operator(and , or ,not)\n",
        "            Comparison Operator(==,!=,<,>)\n",
        "            Bitwise operator(||,^)\n",
        "            \n",
        "'''"
      ],
      "metadata": {
        "id": "aHXSCfgi-wPZ"
      },
      "execution_count": null,
      "outputs": []
    },
    {
      "cell_type": "code",
      "source": [
        "''' Q15. What is difference between / and // operators?\n",
        "            / used for division result with floating point value\n",
        "            // is called as floor division and returns the value in integer\n",
        "            Eg:\n",
        "            10/3=3.3333333\n",
        "            10//3=3\n",
        "'''"
      ],
      "metadata": {
        "id": "HGIRBnHhCuau"
      },
      "execution_count": null,
      "outputs": []
    },
    {
      "cell_type": "code",
      "source": [
        "'''\n",
        "Q16. Write a code that gives following as an output.\n",
        "```\n",
        "iNeuroniNeuroniNeuroniNeuron\n",
        "```\n",
        "'''\n",
        "\n",
        "print('iNeuron'*4)"
      ],
      "metadata": {
        "colab": {
          "base_uri": "https://localhost:8080/"
        },
        "id": "mhHQc1b-DCkw",
        "outputId": "b809a7d1-a0e1-45f5-c047-28bc193ffa26"
      },
      "execution_count": null,
      "outputs": [
        {
          "output_type": "stream",
          "name": "stdout",
          "text": [
            "iNeuroniNeuroniNeuroniNeuron\n"
          ]
        }
      ]
    },
    {
      "cell_type": "code",
      "source": [
        "'''\n",
        "Q17. Write a code to take a number as an input from the user and check if the number is odd or even.\n",
        "'''\n",
        "n=int(input(\"Enter a number  \"))\n",
        "if n%2==0:\n",
        "  print(\"The given number\",n,\"is a even number\")\n",
        "else:\n",
        "  print(\"The given number\",n,\"is a odd number\")"
      ],
      "metadata": {
        "colab": {
          "base_uri": "https://localhost:8080/"
        },
        "id": "sHLze61GDSx6",
        "outputId": "391b19cc-14d3-432d-ad72-7e60deafb72f"
      },
      "execution_count": null,
      "outputs": [
        {
          "output_type": "stream",
          "name": "stdout",
          "text": [
            "Enter a number  2\n",
            "The given number 2 is a even number\n"
          ]
        }
      ]
    },
    {
      "cell_type": "code",
      "source": [
        "'''\n",
        "Q17. Write a code to take a number as an input from the user and check if the number is odd or even.\n",
        "'''\n",
        "n=int(input(\"Enter a number  \"))\n",
        "if n%2==0:\n",
        "  print(\"The given number\",n,\"is a even number\")\n",
        "else:\n",
        "  print(\"The given number\",n,\"is a odd number\")"
      ],
      "metadata": {
        "colab": {
          "base_uri": "https://localhost:8080/"
        },
        "id": "DJCmU5QDDwFx",
        "outputId": "96a644f0-e8c1-47d6-e14d-d78a59c98566"
      },
      "execution_count": null,
      "outputs": [
        {
          "output_type": "stream",
          "name": "stdout",
          "text": [
            "Enter a number  333\n",
            "The given number 333 is a odd number\n"
          ]
        }
      ]
    },
    {
      "cell_type": "code",
      "source": [
        "'''Q18. What are boolean operator?\n",
        "            Boolean operators are (AND,OR,NOT) which results in either True or False\n",
        "'''"
      ],
      "metadata": {
        "id": "Vjs-5mYHD6qu"
      },
      "execution_count": null,
      "outputs": []
    },
    {
      "cell_type": "code",
      "source": [
        "'''\n",
        "Q19. What will the output of the following?\n",
        "```\n",
        "                                    **Output**\n",
        "1 or 0                                #1\n",
        "\n",
        "0 and 0                               #0\n",
        "\n",
        "True and False and True               #False\n",
        "\n",
        "1 or 0 or 0                            #1\n",
        "```'''\n"
      ],
      "metadata": {
        "id": "5Y8QGY9LEKTe"
      },
      "execution_count": null,
      "outputs": []
    },
    {
      "cell_type": "code",
      "source": [
        "'''\n",
        "Q20. What are conditional statements in Python?\n",
        "              Decision-making in a programming language is automated using conditional statements\n",
        "              The conditions are evaluated and processed as true or false.\n",
        "              In python it contains as:If,elif,\n",
        "'''\n",
        "                "
      ],
      "metadata": {
        "id": "TtXW81pYEo5M"
      },
      "execution_count": null,
      "outputs": []
    },
    {
      "cell_type": "code",
      "source": [
        "'''\n",
        "Q21. What is use of 'if', 'elif' and 'else' keywords?\n",
        "          \"if\" keyword is used to create conditional statements and allows you to execute a block of code only if a condition is True\n",
        "          \"elif\" keyword is used in conditional statements and is short for else if.\n",
        "          \"else\" keyword is used in conditional statements and decides what to do if the condition is False.\n",
        "'''"
      ],
      "metadata": {
        "id": "Yi7a9vApJv3m"
      },
      "execution_count": null,
      "outputs": []
    },
    {
      "cell_type": "code",
      "source": [
        "'''Q22. Write a code to take the age of person as an input and if age >= 18 display \"I can vote\". If age is < 18 display \"I can't vote\".'''\n",
        "\n",
        "age=int(input(\"Enter the age: \"))\n",
        "if(age>18):\n",
        "  print(\"I can vote.\")\n",
        "elif age<18:\n",
        "  print(\"I can't vote\")\n",
        "else:\n",
        "  print(\"Enter a valid age\")"
      ],
      "metadata": {
        "colab": {
          "base_uri": "https://localhost:8080/"
        },
        "id": "asQypz0fqxxx",
        "outputId": "8eb944f5-1b66-472e-be9e-a2e6d92c3671"
      },
      "execution_count": null,
      "outputs": [
        {
          "output_type": "stream",
          "name": "stdout",
          "text": [
            "Enter the age: 10\n",
            "I can't vote\n"
          ]
        }
      ]
    },
    {
      "cell_type": "code",
      "source": [
        "'''Q22. Write a code to take the age of person as an input and if age >= 18 display \"I can vote\". If age is < 18 display \"I can't vote\".'''\n",
        "\n",
        "age=int(input(\"Enter the age: \"))\n",
        "if(age>18):\n",
        "  print(\"I can vote.\")\n",
        "elif age<18:\n",
        "  print(\"I can't vote\")\n",
        "else:\n",
        "  print(\"Enter a valid age\")"
      ],
      "metadata": {
        "colab": {
          "base_uri": "https://localhost:8080/"
        },
        "id": "Zq6yvRF7rJ-v",
        "outputId": "d976b1be-5140-4787-8591-ec118ce727d3"
      },
      "execution_count": null,
      "outputs": [
        {
          "output_type": "stream",
          "name": "stdout",
          "text": [
            "Enter the age: 23\n",
            "I can vote.\n"
          ]
        }
      ]
    },
    {
      "cell_type": "code",
      "source": [
        "'''\n",
        "Q23. Write a code that displays the sum of all the even numbers from the given list.\n",
        "```\n",
        "numbers = [12, 75, 150, 180, 145, 525, 50]\n",
        "```\n",
        "'''\n",
        "number=[12,75,150,180,145,525,50]\n",
        "even=[]\n",
        "for i in number:\n",
        "  if i%2==0:\n",
        "    even.append(i)\n",
        "print(\"The even number list is\",even)\n",
        "sum=0\n",
        "for ez in even:\n",
        "  sum=sum+ez\n",
        "print(\"The sum of all even numbers is \",sum)\n"
      ],
      "metadata": {
        "colab": {
          "base_uri": "https://localhost:8080/"
        },
        "id": "4f4ppjZVrOp1",
        "outputId": "163f5ab6-b16a-4201-f50a-e236645a6269"
      },
      "execution_count": null,
      "outputs": [
        {
          "output_type": "stream",
          "name": "stdout",
          "text": [
            "The even number list is [12, 150, 180, 50]\n",
            "The sum of all even numbers is  392\n"
          ]
        }
      ]
    },
    {
      "cell_type": "code",
      "source": [
        "'''\n",
        "Q24. Write a code to take 3 numbers as an input from the user and display the greatest no as output.\n",
        "\n",
        "'''\n",
        "a,b,c=input(\"Enter three numbers \").split()\n",
        "if int(a)>int(b) and int(a)>int(c):\n",
        "  print(\"The greatest among three numbers is \",a)\n",
        "elif int(b)>int(a) and int(b)>int(c):\n",
        "  print(\"The greatest among three numbers is \",b)\n",
        "else:\n",
        "  print(\"The greatest among three numbers is \",c)\n"
      ],
      "metadata": {
        "colab": {
          "base_uri": "https://localhost:8080/"
        },
        "id": "ZovB9I9Ir3-K",
        "outputId": "248c5a42-64a7-45e7-988d-2160c103b00b"
      },
      "execution_count": null,
      "outputs": [
        {
          "output_type": "stream",
          "name": "stdout",
          "text": [
            "Enter three numbers 5 84 1\n",
            "The greatest among three numbers is  84\n"
          ]
        }
      ]
    },
    {
      "cell_type": "code",
      "source": [
        "'''\n",
        "Q25. Write a program to display only those numbers from a list that satisfy the following conditions\n",
        "\n",
        "- The number must be divisible by five\n",
        "\n",
        "- If the number is greater than 150, then skip it and move to the next number\n",
        "\n",
        "- If the number is greater than 500, then stop the loop\n",
        "```\n",
        "numbers = [12, 75, 150, 180, 145, 525, 50]\n",
        "'''\n",
        "number=[12,75,150,180,145,525,50]\n",
        "ans=[]\n",
        "'''n=int(input(\"Enter the total number\"))\n",
        "for i in range(n):\n",
        "  input=input()'''\n",
        "for i in number:\n",
        "  if i >500:\n",
        "    break\n",
        "  elif i>150:\n",
        "    continue\n",
        "  elif i%5==0:\n",
        "    ans.append(i)\n",
        "print(ans)"
      ],
      "metadata": {
        "colab": {
          "base_uri": "https://localhost:8080/"
        },
        "id": "kbylNUOhsiEv",
        "outputId": "70afce05-ddb0-4d36-915f-3305667eb24f"
      },
      "execution_count": null,
      "outputs": [
        {
          "output_type": "stream",
          "name": "stdout",
          "text": [
            "[75, 150, 145]\n"
          ]
        }
      ]
    },
    {
      "cell_type": "code",
      "source": [
        "                                        #Assignment-2#"
      ],
      "metadata": {
        "id": "5I7mB15iTK15"
      },
      "execution_count": null,
      "outputs": []
    },
    {
      "cell_type": "code",
      "source": [
        "'''\n",
        "Q26. What is a string? How can we declare string in Python?\n",
        "\n",
        "                    In python strings are arrays of bytes representing unicode characters.\n",
        "                    In python string can be declared either by 'single quote' or \"double quote\"\n",
        "                    for eg name=\"Madhesh Raj\"\n",
        "                           initial='S'\n",
        "'''\n"
      ],
      "metadata": {
        "id": "g3bGjbyXTCe0"
      },
      "execution_count": null,
      "outputs": []
    },
    {
      "cell_type": "code",
      "source": [
        "'''\n",
        "Q27. How can we access the string using its index?\n",
        "                                  Individual characters in a string can be accessed by specifying the string name followed by a number in square brackets ( [])\n",
        "                                  For eg:\n",
        "'''\n",
        "Name=\"Madhesh Raj\"\n",
        "print(\"First char of name\",Name[0])\n",
        "print(\"Last char of name\",Name[-1])\n",
        "print(\"Second char of name\",Name[1])\n",
        "\n",
        "#String value cannot be changed."
      ],
      "metadata": {
        "id": "AYKCX2KCULG3",
        "colab": {
          "base_uri": "https://localhost:8080/"
        },
        "outputId": "5f1e2d64-5730-4d87-f349-ac80544e3f4a"
      },
      "execution_count": null,
      "outputs": [
        {
          "output_type": "stream",
          "name": "stdout",
          "text": [
            "First char of name M\n",
            "Last char of name j\n",
            "Second char of name a\n"
          ]
        }
      ]
    },
    {
      "cell_type": "code",
      "source": [
        "'''\n",
        "Q28. Write a code to get the desired output of the following\n",
        "\n",
        "string = \"Big Data iNeuron\"\n",
        "desired_output = \"iNeuron\"\n",
        "'''\n",
        "string=\"Big Data iNeuron\"\n",
        "z=list(string.split(\" \"))\n",
        "print(z[-1])\n"
      ],
      "metadata": {
        "colab": {
          "base_uri": "https://localhost:8080/"
        },
        "id": "6A6TTAy_hJYK",
        "outputId": "577d0f95-c007-42d6-c2c6-deb94011efb6"
      },
      "execution_count": null,
      "outputs": [
        {
          "output_type": "stream",
          "name": "stdout",
          "text": [
            "iNeuron\n"
          ]
        }
      ]
    },
    {
      "cell_type": "code",
      "source": [
        "'''\n",
        "Q29. Write a code to get the desired output of the following\n",
        "string = \"Big Data iNeuron\"\n",
        "desired_output = \"norueNi\"\n",
        "'''\n",
        "string=\"Big Data iNeuron\"\n",
        "z=list(string.split(\" \"))\n",
        "ans=z[-1]\n",
        "print(ans[::-1])"
      ],
      "metadata": {
        "colab": {
          "base_uri": "https://localhost:8080/"
        },
        "id": "HDgqfsk1jjdy",
        "outputId": "7c715737-cdea-4700-d444-02a34bf4f20f"
      },
      "execution_count": null,
      "outputs": [
        {
          "output_type": "stream",
          "name": "stdout",
          "text": [
            "norueNi\n"
          ]
        }
      ]
    },
    {
      "cell_type": "code",
      "source": [
        "'''\n",
        "Q30. Resverse the string given in the above question.\n",
        "'''#it is done by slicing\n",
        "string=\"Big Data iNeuron\"[::-1]\n",
        "print(string)"
      ],
      "metadata": {
        "colab": {
          "base_uri": "https://localhost:8080/"
        },
        "id": "ChTAs5j2j0BK",
        "outputId": "190e2bd5-f633-47c7-a5c5-25f3c4960862"
      },
      "execution_count": null,
      "outputs": [
        {
          "output_type": "stream",
          "name": "stdout",
          "text": [
            "norueNi ataD giB\n"
          ]
        }
      ]
    },
    {
      "cell_type": "code",
      "source": [
        "'''\n",
        "Q31. How can you delete entire string at once?\n",
        "                  It can be done using del fucntion\n",
        "'''\n",
        "string=\"Big Data iNeuron\"\n",
        "del string\n",
        "\n",
        "print(string)"
      ],
      "metadata": {
        "colab": {
          "base_uri": "https://localhost:8080/",
          "height": 200
        },
        "id": "pKQCm0eZmotA",
        "outputId": "9a12c49a-2893-4336-fc1e-d3d1c781a30d"
      },
      "execution_count": null,
      "outputs": [
        {
          "output_type": "error",
          "ename": "NameError",
          "evalue": "ignored",
          "traceback": [
            "\u001b[0;31m---------------------------------------------------------------------------\u001b[0m",
            "\u001b[0;31mNameError\u001b[0m                                 Traceback (most recent call last)",
            "\u001b[0;32m<ipython-input-18-ac3e9fc1574f>\u001b[0m in \u001b[0;36m<module>\u001b[0;34m\u001b[0m\n\u001b[1;32m      6\u001b[0m \u001b[0;32mdel\u001b[0m \u001b[0mstring\u001b[0m\u001b[0;34m\u001b[0m\u001b[0;34m\u001b[0m\u001b[0m\n\u001b[1;32m      7\u001b[0m \u001b[0;34m\u001b[0m\u001b[0m\n\u001b[0;32m----> 8\u001b[0;31m \u001b[0mprint\u001b[0m\u001b[0;34m(\u001b[0m\u001b[0mstring\u001b[0m\u001b[0;34m)\u001b[0m\u001b[0;34m\u001b[0m\u001b[0;34m\u001b[0m\u001b[0m\n\u001b[0m",
            "\u001b[0;31mNameError\u001b[0m: name 'string' is not defined"
          ]
        }
      ]
    },
    {
      "cell_type": "code",
      "source": [
        "'''\n",
        "Q32. What is escape sequence?\n",
        "                  The sequence of character which has indirect meaning when it placed within double quotes.\n",
        "                  It will optimize some the repetitive tasks while programming.\n",
        "                  Eg:\n",
        "                    \\n,\\r,\\t,\\b\n",
        "'''"
      ],
      "metadata": {
        "id": "ZL9B8CxivMAT"
      },
      "execution_count": null,
      "outputs": []
    },
    {
      "cell_type": "code",
      "source": [
        "'''\n",
        "Q33. How can you print the below string?\n",
        "\n",
        "'iNeuron's Big Data Course'\n",
        "'''\n",
        "#it can a;so be used with / or R\n",
        "print(\"'iNeuron's Big Data Course'\")"
      ],
      "metadata": {
        "colab": {
          "base_uri": "https://localhost:8080/"
        },
        "id": "tRS3uSWSw_7p",
        "outputId": "7d48f255-8727-49aa-d749-f3a28b9a0e19"
      },
      "execution_count": null,
      "outputs": [
        {
          "output_type": "stream",
          "name": "stdout",
          "text": [
            "'iNeuron's Big Data Course'\n"
          ]
        }
      ]
    },
    {
      "cell_type": "code",
      "source": [
        "'''\n",
        "Q34. What is a list in Python?\n",
        "                  A list is a data structure in Python that is a mutable,\n",
        "                  or changeable, ordered sequence of elements.\n",
        "                  Lists are used to store multiple items in a single variable.\n",
        "                  Eg:l=[1,\"Raj\",5.6]\n",
        "'''"
      ],
      "metadata": {
        "id": "IZqnUrkJw52J"
      },
      "execution_count": null,
      "outputs": []
    },
    {
      "cell_type": "code",
      "source": [
        "'''\n",
        "Q35. How can you create a list in Python?\n",
        "                  A list is created by placing elements inside square brackets [] , separated by commas\n",
        "                  It can also be created using list() fucntion\n",
        "\n",
        "                  Eg:l=[1,2,3]\n",
        "'''"
      ],
      "metadata": {
        "id": "NvqvLoh7ydXU"
      },
      "execution_count": null,
      "outputs": []
    },
    {
      "cell_type": "code",
      "source": [
        "'''\n",
        "Q36. How can we access the elements in a list?\n",
        "                  List literals are written within square brackets [ ]\n",
        "                  With the help of square brackets [ ] to access data, with the first element at index 0.\n",
        "\n",
        "                  Eg:\n",
        "                      l=[1,2,4]\n",
        "                      l[0]=1\n",
        "                      l[2]=4\n",
        "'''"
      ],
      "metadata": {
        "id": "uCDdseJjyyHR"
      },
      "execution_count": null,
      "outputs": []
    },
    {
      "cell_type": "code",
      "source": [
        "'''\n",
        "Q37. Write a code to access the word \"iNeuron\" from the given list.\n",
        "\n",
        "lst = [1,2,3,\"Hi\",[45,54, \"iNeuron\"], \"Big Data\"]\n",
        "'''\n",
        "lst = [1,2,3,\"Hi\",[45,54, \"iNeuron\"], \"Big Data\"]\n",
        "print(lst[4][2])"
      ],
      "metadata": {
        "colab": {
          "base_uri": "https://localhost:8080/"
        },
        "id": "mEfEVzPbzKpS",
        "outputId": "9c503ac3-157e-41f7-bea3-2be3f51e4782"
      },
      "execution_count": null,
      "outputs": [
        {
          "output_type": "stream",
          "name": "stdout",
          "text": [
            "iNeuron\n"
          ]
        }
      ]
    },
    {
      "cell_type": "code",
      "source": [
        "'''\n",
        "Q38. Take a list as an input from the user and find the length of the list.\n",
        "'''\n",
        "n=int(input(\"Enter the total elements:\"))\n",
        "l=[]\n",
        "for i in range(n):\n",
        "  i=input()\n",
        "  l.append(i)\n",
        "print(l)\n",
        "le=len(l)\n",
        "print(\"Length of the list is:\",le)"
      ],
      "metadata": {
        "colab": {
          "base_uri": "https://localhost:8080/"
        },
        "id": "-itK_KFcRbCr",
        "outputId": "1cf4ff38-7714-4544-afd5-e2edad6b2d43"
      },
      "execution_count": null,
      "outputs": [
        {
          "output_type": "stream",
          "name": "stdout",
          "text": [
            "Enter the total elements:5\n",
            "Raj\n",
            "1\n",
            "5.3\n",
            "Madde\n",
            "89\n",
            "['Raj', '1', '5.3', 'Madde', '89']\n",
            "Length of the list is: 5\n"
          ]
        }
      ]
    },
    {
      "cell_type": "code",
      "source": [
        "'''\n",
        "Q39. Add the word \"Big\" in the 3rd index of the given list.\n",
        "\n",
        "lst = [\"Welcome\", \"to\", \"Data\", \"course\"]\n",
        "'''\n",
        "lst = [\"Welcome\", \"to\", \"Data\", \"course\"]\n",
        "a=\"Big\"\n",
        "lst.insert(3,a)\n",
        "print(lst)"
      ],
      "metadata": {
        "colab": {
          "base_uri": "https://localhost:8080/"
        },
        "id": "5Uoavyd1Uxwm",
        "outputId": "5ff849e4-6877-4679-f8b3-2f8fbd95e6f3"
      },
      "execution_count": null,
      "outputs": [
        {
          "output_type": "stream",
          "name": "stdout",
          "text": [
            "['Welcome', 'to', 'Data', 'Big', 'course']\n"
          ]
        }
      ]
    },
    {
      "cell_type": "code",
      "source": [
        "'''\n",
        "Q40. What is a tuple? How is it different from list?\n",
        "                  Tuples are also used to store multiple items inside a single varibale.\n",
        "                  Difference from the list is:\n",
        "                    List are mutable where as tuple are immutable and represented with the symbol ().\n",
        "'''"
      ],
      "metadata": {
        "id": "iXVHV-76WEpb"
      },
      "execution_count": null,
      "outputs": []
    },
    {
      "cell_type": "code",
      "source": [
        "'''\n",
        "Q41. How can you create a tuple in Python?\n",
        "                  A tuple is created by placing all the items inside parentheses(),separated by commas.\n",
        "                  Eg:t=(1,'Raj',5.3)\n",
        "'''"
      ],
      "metadata": {
        "id": "YvKpBD1LWmUl"
      },
      "execution_count": null,
      "outputs": []
    },
    {
      "cell_type": "code",
      "source": [
        "'''\n",
        "Q42. Create a tuple and try to add your name in the tuple. Are you able to do it? Support your answer with reason.\n",
        "                  We cannot add a element inside a tuple as it \"immutable\".\n",
        "                  But we can concatenation\n",
        "'''\n",
        "s=(1,2,4,)\n",
        "name='madhesh raj'\n",
        "#converting the name to tuple\n",
        "z=s+(name,)\n",
        "z"
      ],
      "metadata": {
        "colab": {
          "base_uri": "https://localhost:8080/"
        },
        "id": "rYnXa_mZW4eD",
        "outputId": "8a8957b0-4984-47c5-9e77-295416e96fcb"
      },
      "execution_count": null,
      "outputs": [
        {
          "output_type": "execute_result",
          "data": {
            "text/plain": [
              "(1, 2, 4, 'madhesh raj')"
            ]
          },
          "metadata": {},
          "execution_count": 11
        }
      ]
    },
    {
      "cell_type": "code",
      "source": [
        "'''\n",
        "Q43. Can two tuple be appended. If yes, write a code for it. If not, why?\n",
        "                No,We cant append two tuple but can be conacatenated.As it is an immutable it cant be done.\n",
        "'''\n",
        "s1=(1,2)\n",
        "s2=(3,4)\n",
        "s3=s1+s2\n",
        "s3"
      ],
      "metadata": {
        "colab": {
          "base_uri": "https://localhost:8080/"
        },
        "id": "VkRGnUkUZPFg",
        "outputId": "2b11361c-568a-4ebf-d2cf-0bcfd02f37fc"
      },
      "execution_count": null,
      "outputs": [
        {
          "output_type": "execute_result",
          "data": {
            "text/plain": [
              "(1, 2, 3, 4)"
            ]
          },
          "metadata": {},
          "execution_count": 12
        }
      ]
    },
    {
      "cell_type": "code",
      "source": [
        "'''\n",
        "Q44. Take a tuple as an input and print the count of elements in it.\n",
        "\n",
        "'''\n",
        "n=tuple(input().split(\",\"))\n",
        "c=len(n)\n",
        "print(\"Count of elements in it is:\",c)"
      ],
      "metadata": {
        "colab": {
          "base_uri": "https://localhost:8080/"
        },
        "id": "W-C236x6ZmgM",
        "outputId": "4f2f1afe-6a0d-4f24-ceb7-379ea9b7d69d"
      },
      "execution_count": null,
      "outputs": [
        {
          "output_type": "stream",
          "name": "stdout",
          "text": [
            "1,Football,2,Cricket\n",
            "Count of elements in it is: 4\n"
          ]
        }
      ]
    },
    {
      "cell_type": "code",
      "source": [
        "'''\n",
        "Q45. What are sets in Python?\n",
        "              Sets are used to store multiple items in a single variable.\n",
        "              A set is a collection which is unordered,unchangeable,and unindexed.\n",
        "              A Set is an unordered collection data type that is iterable,mutable and has no duplicate elements\n",
        "'''"
      ],
      "metadata": {
        "id": "LJ0mDzh8d_AD"
      },
      "execution_count": null,
      "outputs": []
    },
    {
      "cell_type": "code",
      "source": [
        "'''\n",
        "Q46. How can you create a set?\n",
        "              Set can be created by placing the elements placing inside {}\n",
        "'''\n",
        "s={1,\"football\",2,6.3}\n",
        "s"
      ],
      "metadata": {
        "colab": {
          "base_uri": "https://localhost:8080/"
        },
        "id": "8NJI2WxxefEG",
        "outputId": "55464b5a-83f0-4770-fec5-cad412bae88d"
      },
      "execution_count": null,
      "outputs": [
        {
          "output_type": "execute_result",
          "data": {
            "text/plain": [
              "{1, 2, 6.3, 'football'}"
            ]
          },
          "metadata": {},
          "execution_count": 24
        }
      ]
    },
    {
      "cell_type": "code",
      "source": [
        "'''\n",
        "Q47. Create a set and add \"iNeuron\" in your set.\n",
        "              add() is used to add elemnt inside it.\n",
        "'''\n",
        "s=set()\n",
        "s.add(\"iNeuron\")\n",
        "s"
      ],
      "metadata": {
        "colab": {
          "base_uri": "https://localhost:8080/"
        },
        "id": "w_cc7vRJe4Fc",
        "outputId": "11a2c8ec-88b3-49db-cbd4-1731454c1e42"
      },
      "execution_count": null,
      "outputs": [
        {
          "output_type": "execute_result",
          "data": {
            "text/plain": [
              "{'iNeuron'}"
            ]
          },
          "metadata": {},
          "execution_count": 26
        }
      ]
    },
    {
      "cell_type": "code",
      "source": [
        "'''\n",
        "Q48. Try to add multiple values using add() function.\n",
        "'''\n",
        "s1={1,2}\n",
        "s2={3,4}\n",
        "for i in s2:\n",
        "  s1.add(i)\n",
        "print(s1)"
      ],
      "metadata": {
        "colab": {
          "base_uri": "https://localhost:8080/"
        },
        "id": "pKkz1sN3fRAz",
        "outputId": "0753857f-5187-4099-c171-3d6748f88bb8"
      },
      "execution_count": null,
      "outputs": [
        {
          "output_type": "stream",
          "name": "stdout",
          "text": [
            "{1, 2, 3, 4}\n"
          ]
        }
      ]
    },
    {
      "cell_type": "code",
      "source": [
        "'''\n",
        "Q49. How is update() different from add()?\n",
        "                  add() method to add single value to a set. We use update() method to add sequence values to a set.\n",
        "'''\n",
        "s1=set()\n",
        "s1.add(1)\n",
        "#s1.add({7,8,6}) #fails\n",
        "s1\n",
        "s1.update({2,3,4})\n",
        "s1"
      ],
      "metadata": {
        "colab": {
          "base_uri": "https://localhost:8080/"
        },
        "id": "lFMaJXA-gpQz",
        "outputId": "18f974db-f5ae-43ac-d448-12ef95c182c3"
      },
      "execution_count": null,
      "outputs": [
        {
          "output_type": "execute_result",
          "data": {
            "text/plain": [
              "{1, 2, 3, 4}"
            ]
          },
          "metadata": {},
          "execution_count": 39
        }
      ]
    },
    {
      "cell_type": "code",
      "source": [
        "'''\n",
        "Q50. What is clear() in sets?\n",
        "                  clear is used to remove all the elements inside a set.\n",
        "'''\n",
        "s1={1,\"raj\",6.9}\n",
        "print(s1)\n",
        "z=s1.clear()\n",
        "print(\"After clearing the set:\",z)"
      ],
      "metadata": {
        "colab": {
          "base_uri": "https://localhost:8080/"
        },
        "id": "qoTGwDukhW49",
        "outputId": "6a7e5729-f105-405e-c70c-e8dcd062e983"
      },
      "execution_count": null,
      "outputs": [
        {
          "output_type": "stream",
          "name": "stdout",
          "text": [
            "{1, 'raj', 6.9}\n",
            "After clearing the set: None\n"
          ]
        }
      ]
    },
    {
      "cell_type": "code",
      "source": [
        "'''\n",
        "Q51. What is frozen set?\n",
        "                    A frozenset contains unique values, which makes it very similar to set data type. It is immutable like tuples.\n",
        "'''"
      ],
      "metadata": {
        "id": "HoQD1eiwa9A0"
      },
      "execution_count": null,
      "outputs": []
    },
    {
      "cell_type": "code",
      "source": [
        "'''\n",
        "Q52. How is frozen set different from set?\n",
        "                  The difference between set and frozen set is in \n",
        "                  -Set the value can be modified (mutable)\n",
        "                  -in frozen set the values cannot be modified(immutable)\n",
        "'''"
      ],
      "metadata": {
        "id": "efbbEkFwbD6_"
      },
      "execution_count": null,
      "outputs": []
    },
    {
      "cell_type": "code",
      "source": [
        "'''\n",
        "Q53. What is union() in sets? Explain via code.\n",
        "                  union in python is used to combine two sets.ie addition of two sets.\n",
        "'''\n",
        "a={1,2,3}\n",
        "print(type(a))\n",
        "b={4,5,6}\n",
        "d=a.union(b) #or d=a|b\n",
        "d"
      ],
      "metadata": {
        "colab": {
          "base_uri": "https://localhost:8080/"
        },
        "id": "coFjwa1ncBq3",
        "outputId": "19cf8aee-30dd-45b6-b8f0-26ab44e200c4"
      },
      "execution_count": null,
      "outputs": [
        {
          "output_type": "stream",
          "name": "stdout",
          "text": [
            "<class 'set'>\n"
          ]
        },
        {
          "output_type": "execute_result",
          "data": {
            "text/plain": [
              "{1, 2, 3, 4, 5, 6}"
            ]
          },
          "metadata": {},
          "execution_count": 5
        }
      ]
    },
    {
      "cell_type": "code",
      "source": [
        "'''\n",
        "Q54. What is intersection() in sets? Explain via code.\n",
        "                  intersection in python is used to find common between two sets.\n",
        "'''\n",
        "a={1,2,3,4,5}\n",
        "b={1,2,3}\n",
        "ans=a.intersection(b) #or ans=a&b\n",
        "#will give only the common elements in it.\n",
        "ans"
      ],
      "metadata": {
        "colab": {
          "base_uri": "https://localhost:8080/"
        },
        "id": "LmJ49xUQcuxN",
        "outputId": "f421589d-4613-4a6c-e3eb-2b722a0fd6dc"
      },
      "execution_count": null,
      "outputs": [
        {
          "output_type": "execute_result",
          "data": {
            "text/plain": [
              "{1, 2, 3}"
            ]
          },
          "metadata": {},
          "execution_count": 3
        }
      ]
    },
    {
      "cell_type": "code",
      "source": [
        "'''\n",
        "Q55. What is dictionary in Python?\n",
        "                  Dictionaries are used to store data values in key:value pairs.\n",
        "                  It can be changed and doesn't allow duplciates.\n",
        "'''"
      ],
      "metadata": {
        "id": "tfwR0rYGdRpi"
      },
      "execution_count": null,
      "outputs": []
    },
    {
      "cell_type": "code",
      "source": [
        "'''\n",
        "Q56. How is dictionary different from all other data structures.\n",
        "                A dictionary has a set of keys and each key has a single associated value\n",
        "                When presented with a key the dictionary will • A dictionary has a set of keys and each key has a single associated value.\n",
        "                \n",
        "'''"
      ],
      "metadata": {
        "id": "E3g36oh-exOB"
      },
      "execution_count": null,
      "outputs": []
    },
    {
      "cell_type": "code",
      "source": [
        "'''\n",
        "Q57. How can we delare a dictionary in Python?\n",
        "                In python it can be defined by {} or by using dict() fucntion\n",
        "'''"
      ],
      "metadata": {
        "id": "sc5DLDcafE-Z"
      },
      "execution_count": null,
      "outputs": []
    },
    {
      "cell_type": "code",
      "source": [
        "'''\n",
        "Q58. What will the output of the following?\n",
        "\n",
        "var = {}\n",
        "print(type(var))\n",
        "\n",
        "Ans:dict\n",
        "'''\n",
        "var = {}\n",
        "print(type(var))\n"
      ],
      "metadata": {
        "colab": {
          "base_uri": "https://localhost:8080/"
        },
        "id": "RkhuSA_kf6yZ",
        "outputId": "8b531b77-9196-4727-f860-45f266e11ca5"
      },
      "execution_count": null,
      "outputs": [
        {
          "output_type": "stream",
          "name": "stdout",
          "text": [
            "<class 'dict'>\n"
          ]
        }
      ]
    },
    {
      "cell_type": "code",
      "source": [
        "'''\n",
        "Q59. How can we add an element in a dictionary?\n",
        "'''\n",
        "d={}\n",
        "d['Name']=\"Madhesh\"\n",
        "d['Age']=30\n",
        "d['Skills']=[\"Python\",\"sql\"] #as a list\n",
        "d[\"Nationality\"]={\"Age<18\":\"US\",\"Age>18\":\"UK\"} #as a dictionary\n",
        "d"
      ],
      "metadata": {
        "colab": {
          "base_uri": "https://localhost:8080/"
        },
        "id": "LvQnnj5ZgOT4",
        "outputId": "b95cda22-6629-412f-9c64-56e992b0abd7"
      },
      "execution_count": null,
      "outputs": [
        {
          "output_type": "execute_result",
          "data": {
            "text/plain": [
              "{'Name': 'Madhesh',\n",
              " 'Age': 30,\n",
              " 'Skills': ['Python', 'sql'],\n",
              " 'Nationality': {'Age<18': 'US', 'Age>18': 'UK'}}"
            ]
          },
          "metadata": {},
          "execution_count": 12
        }
      ]
    },
    {
      "cell_type": "code",
      "source": [
        "'''\n",
        "Q60. Create a dictionary and access all the values in that dictionary.\n",
        "'''\n",
        "d={\"Name\":\"Madhesh\",\"Age\":30,\"Skills\":[\"Python\",\"Sql\"],\"Nationality\":{\"Age<18\":\"US\",\"Age>18\":\"UK\"}}\n",
        "print(\"Name:\",d[\"Name\"])\n",
        "print(\"Age:\",d[\"Age\"])\n",
        "print(\"Primary skill\",d[\"Skills\"][1])\n",
        "print(\"Secondary skill\",d[\"Skills\"][0])\n",
        "print(d[\"Nationality\"][\"Age<18\"])\n",
        "print(d[\"Nationality\"][\"Age>18\"])"
      ],
      "metadata": {
        "colab": {
          "base_uri": "https://localhost:8080/"
        },
        "id": "TjtEtv_ki-m_",
        "outputId": "c32805b9-e448-4fba-f5d3-4cfcd7a2a342"
      },
      "execution_count": null,
      "outputs": [
        {
          "output_type": "stream",
          "name": "stdout",
          "text": [
            "Name: Madhesh\n",
            "Age: 30\n",
            "Primary skill Sql\n",
            "Secondary skill Python\n",
            "US\n",
            "UK\n"
          ]
        }
      ]
    },
    {
      "cell_type": "code",
      "source": [
        "'''\n",
        "Q61. Create a nested dictionary and access all the element in the inner dictionary.\n",
        "'''\n",
        "d={\"Barcelona\":{\"Players\":[\"Messi\",\"Puyol\"],\"Title\":78},\"Real Madrid\":{\"Players\":[\"Ronaldo\",\"Ramos\"],\"Title\":83}}\n",
        "print(d[\"Barcelona\"][\"Players\"])\n",
        "print(d[\"Real Madrid\"][\"Players\"])\n",
        "print(d[\"Real Madrid\"][\"Title\"])\n",
        "print(d[\"Barcelona\"][\"Title\"])"
      ],
      "metadata": {
        "colab": {
          "base_uri": "https://localhost:8080/"
        },
        "id": "dhn5qJCcl5DO",
        "outputId": "e2a7cc31-a283-4d3e-cd1c-56c68bc436ae"
      },
      "execution_count": null,
      "outputs": [
        {
          "output_type": "stream",
          "name": "stdout",
          "text": [
            "['Messi', 'Puyol']\n",
            "['Ronaldo', 'Ramos']\n",
            "83\n",
            "78\n"
          ]
        }
      ]
    },
    {
      "cell_type": "code",
      "source": [
        "'''\n",
        "Q62. What is the use of get() function?\n",
        "                  The get() method returns the value of the item with the specified key.\n",
        "'''\n",
        "d={\"Name\":\"Madhesh\",\"Age\":30,\"Skills\":[\"Python\",\"Sql\"],\"Nationality\":{\"Age<18\":\"US\",\"Age>18\":\"UK\"}}\n",
        "print(d.get(\"Name\"))\n",
        "print(d.get(\"Nationality\"))"
      ],
      "metadata": {
        "colab": {
          "base_uri": "https://localhost:8080/"
        },
        "id": "tGvcHRxjnrrm",
        "outputId": "a7b000b2-438e-49f9-bf4d-c73f9a7de233"
      },
      "execution_count": null,
      "outputs": [
        {
          "output_type": "stream",
          "name": "stdout",
          "text": [
            "Madhesh\n",
            "{'Age<18': 'US', 'Age>18': 'UK'}\n"
          ]
        }
      ]
    },
    {
      "cell_type": "code",
      "source": [
        "'''\n",
        "Q63. What is the use of items() function?\n",
        "                  items() method is used to return the list with all dictionary keys with values.\n",
        "'''\n",
        "d={\"Name\":\"Madhesh\",\"Age\":30,\"Skills\":[\"Python\",\"Sql\"],\"Nationality\":{\"Age<18\":\"US\",\"Age>18\":\"UK\"}}\n",
        "print(d.items())\n",
        "print(list(d.items()))"
      ],
      "metadata": {
        "colab": {
          "base_uri": "https://localhost:8080/"
        },
        "id": "bDHdSgwqoz8e",
        "outputId": "b0e66a44-26dd-44f1-cd4a-c2ee7e354540"
      },
      "execution_count": null,
      "outputs": [
        {
          "output_type": "stream",
          "name": "stdout",
          "text": [
            "dict_items([('Name', 'Madhesh'), ('Age', 30), ('Skills', ['Python', 'Sql']), ('Nationality', {'Age<18': 'US', 'Age>18': 'UK'})])\n",
            "{'Name': 'Madhesh', 'Age': 30, 'Skills': ['Python', 'Sql'], 'Nationality': {'Age<18': 'US', 'Age>18': 'UK'}}\n"
          ]
        }
      ]
    },
    {
      "cell_type": "code",
      "source": [
        "'''\n",
        "Q64. What is the use of pop() function?\n",
        "          The pop() method removes the element at the specified position.\n",
        "'''\n",
        "d={\"Name\":\"Madhesh\",\"Age\":30,\"Skills\":[\"Python\",\"Sql\"],\"Nationality\":{\"Age<18\":\"US\",\"Age>18\":\"UK\"}}\n",
        "print(d.pop(\"Age\"))\n",
        "#will not be able to see age item\n",
        "print(d)\n"
      ],
      "metadata": {
        "colab": {
          "base_uri": "https://localhost:8080/"
        },
        "id": "3texYgm2q3XQ",
        "outputId": "823fa6bc-92c8-4452-d6c8-6f643ccef734"
      },
      "execution_count": null,
      "outputs": [
        {
          "output_type": "stream",
          "name": "stdout",
          "text": [
            "30\n",
            "{'Name': 'Madhesh', 'Skills': ['Python', 'Sql'], 'Nationality': {'Age<18': 'US', 'Age>18': 'UK'}}\n"
          ]
        }
      ]
    },
    {
      "cell_type": "code",
      "source": [
        "'''\n",
        "Q65. What is the use of popitems() function?\n",
        "              The popitem() method removes the item that was last inserted into the dictionary.\n",
        "'''\n",
        "d={\"Name\":\"Madhesh\",\"Age\":30,\"Skills\":[\"Python\",\"Sql\"],\"Nationality\":{\"Age<18\":\"US\",\"Age>18\":\"UK\"}}\n",
        "d.popitem()\n",
        "print(d)\n"
      ],
      "metadata": {
        "colab": {
          "base_uri": "https://localhost:8080/"
        },
        "id": "b1TM9zN_reWb",
        "outputId": "924d96be-5e15-4b12-d460-f56bbdb942e3"
      },
      "execution_count": null,
      "outputs": [
        {
          "output_type": "stream",
          "name": "stdout",
          "text": [
            "{'Name': 'Madhesh', 'Age': 30, 'Skills': ['Python', 'Sql']}\n"
          ]
        }
      ]
    },
    {
      "cell_type": "code",
      "source": [
        "'''\n",
        "Q66. What is the use of keys() function?\n",
        "                The keys() method in Python Dictionary, returns a view object that displays a list of all the keys in the dictionary in order of insertion.\n",
        "'''\n",
        "d={\"Name\":\"Madhesh\",\"Age\":30,\"Skills\":[\"Python\",\"Sql\"],\"Nationality\":{\"Age<18\":\"US\",\"Age>18\":\"UK\"}}\n",
        "print(d.keys())"
      ],
      "metadata": {
        "colab": {
          "base_uri": "https://localhost:8080/"
        },
        "id": "tmAPe62_r4NO",
        "outputId": "7b8a419f-fbad-4ca6-a9d9-c78fe4c7c1e5"
      },
      "execution_count": null,
      "outputs": [
        {
          "output_type": "stream",
          "name": "stdout",
          "text": [
            "dict_keys(['Name', 'Age', 'Skills', 'Nationality'])\n"
          ]
        }
      ]
    },
    {
      "cell_type": "code",
      "source": [
        "'''\n",
        "Q67. What is the use of values() function?\n",
        "                The view object contains the values of the dictionary, as a list\n",
        "'''\n",
        "d={\"Name\":\"Madhesh\",\"Age\":30,\"Skills\":[\"Python\",\"Sql\"],\"Nationality\":{\"Age<18\":\"US\",\"Age>18\":\"UK\"}}\n",
        "print(d.values())"
      ],
      "metadata": {
        "colab": {
          "base_uri": "https://localhost:8080/"
        },
        "id": "px_vWal5tOln",
        "outputId": "bc86064e-c9f0-40f0-c4f8-bf529adcbb02"
      },
      "execution_count": null,
      "outputs": [
        {
          "output_type": "stream",
          "name": "stdout",
          "text": [
            "dict_values(['Madhesh', 30, ['Python', 'Sql'], {'Age<18': 'US', 'Age>18': 'UK'}])\n"
          ]
        }
      ]
    },
    {
      "cell_type": "code",
      "source": [
        "'''\n",
        "Q68. What are loops in Python?\n",
        "                A for loop is used for iterating over a sequence of items in list or set or tuples.\n",
        "'''"
      ],
      "metadata": {
        "id": "3nYQxSblta5D"
      },
      "execution_count": null,
      "outputs": []
    },
    {
      "cell_type": "code",
      "source": [
        "'''\n",
        "Q69. How many type of loop are there in Python?\n",
        "      There are two types of loops in Python, for and while loop.\n",
        "'''"
      ],
      "metadata": {
        "id": "s2UiChAfttal"
      },
      "execution_count": null,
      "outputs": []
    },
    {
      "cell_type": "code",
      "source": [
        "'''\n",
        "Q70. What is the difference between for and while loops?\n",
        "      Difference between this loops is in while loop we need to do the counter(iteration) explicitly.\n",
        "      in for loop increment will be done automatically.\n",
        "'''"
      ],
      "metadata": {
        "id": "NoASOL0bt4xn"
      },
      "execution_count": null,
      "outputs": []
    },
    {
      "cell_type": "code",
      "source": [
        "'''\n",
        "Q71. What is the use of continue statement?\n",
        "      The continue keyword is used to end the current iteration in a for or while loop), and continues to the next iteration.\n",
        "'''\n",
        "i = 0\n",
        "while i < 9:\n",
        "  i += 1\n",
        "  if i == 3:\n",
        "    continue\n",
        "  print(i)"
      ],
      "metadata": {
        "colab": {
          "base_uri": "https://localhost:8080/"
        },
        "id": "AFwxe8FS1J6A",
        "outputId": "0ffcfe86-e361-49d7-bd62-4f5bdd33bf40"
      },
      "execution_count": null,
      "outputs": [
        {
          "output_type": "stream",
          "name": "stdout",
          "text": [
            "1\n",
            "2\n",
            "4\n",
            "5\n",
            "6\n",
            "7\n",
            "8\n",
            "9\n"
          ]
        }
      ]
    },
    {
      "cell_type": "code",
      "source": [
        "'''\n",
        "Q72. What is the use of break statement?\n",
        "           It is used to control the sequence of the loop. Suppose you want to terminate a loop and skip to the next code after the loop.\n",
        "'''\n",
        "for i in range(9):\n",
        "  if i > 3:\n",
        "    break\n",
        "  print(i)"
      ],
      "metadata": {
        "colab": {
          "base_uri": "https://localhost:8080/"
        },
        "id": "PrR0J1eN1nOg",
        "outputId": "910f0072-1281-44ae-91b0-1b8972d28774"
      },
      "execution_count": null,
      "outputs": [
        {
          "output_type": "stream",
          "name": "stdout",
          "text": [
            "0\n",
            "1\n",
            "2\n",
            "3\n"
          ]
        }
      ]
    },
    {
      "cell_type": "code",
      "source": [
        "'''\n",
        "Q73. What is the use of pass statement?\n",
        "            It is used to skip a specific elemnt if it is mentioned\n",
        "'''\n",
        "l=[1,2,3,4,5]\n",
        "for i in l:\n",
        "  if i==3:\n",
        "    pass\n",
        "  else:\n",
        "    print(i)"
      ],
      "metadata": {
        "colab": {
          "base_uri": "https://localhost:8080/"
        },
        "id": "D_ruKqn31-6t",
        "outputId": "03ee4868-35e3-4c4a-fc54-4972fb241250"
      },
      "execution_count": null,
      "outputs": [
        {
          "output_type": "stream",
          "name": "stdout",
          "text": [
            "1\n",
            "2\n",
            "4\n",
            "5\n"
          ]
        }
      ]
    },
    {
      "cell_type": "code",
      "source": [
        "'''\n",
        "Q74. What is the use of range() function?\n",
        "              The range() function returns a sequence of numbers,starting from 0 by default,and increments by 1,\n",
        "              and stops before a specified number.\n",
        "'''\n",
        "l=[1,2,3,4]\n",
        "for i in range(0,len(l)):\n",
        "  print(i)"
      ],
      "metadata": {
        "colab": {
          "base_uri": "https://localhost:8080/"
        },
        "id": "xRui7clM5Fcd",
        "outputId": "6e36748a-9dd3-424a-e812-40346533e293"
      },
      "execution_count": null,
      "outputs": [
        {
          "output_type": "stream",
          "name": "stdout",
          "text": [
            "0\n",
            "1\n",
            "2\n",
            "3\n"
          ]
        }
      ]
    },
    {
      "cell_type": "code",
      "source": [
        "'''\n",
        "Q75. How can you loop over a dictionary?\n",
        "'''\n",
        "d={\"Name\":\"Madhesh\",\"Age\":30,\"Skills\":[\"Python\",\"Sql\"],\"Nationality\":{\"Age<18\":\"US\",\"Age>18\":\"UK\"}}\n",
        "for k,v in d.items():\n",
        "  print(\"Keys in the dict is:\",k,\"\\nValues in the dict is::\",v)\n"
      ],
      "metadata": {
        "colab": {
          "base_uri": "https://localhost:8080/"
        },
        "id": "4ehmbfCdl_nW",
        "outputId": "cdbd4dc3-dabb-441e-dd38-7a5cd981dffc"
      },
      "execution_count": null,
      "outputs": [
        {
          "output_type": "stream",
          "name": "stdout",
          "text": [
            "Keys in the dict is: Name \n",
            "Values in the dict is:: Madhesh\n",
            "Keys in the dict is: Age \n",
            "Values in the dict is:: 30\n",
            "Keys in the dict is: Skills \n",
            "Values in the dict is:: ['Python', 'Sql']\n",
            "Keys in the dict is: Nationality \n",
            "Values in the dict is:: {'Age<18': 'US', 'Age>18': 'UK'}\n"
          ]
        }
      ]
    },
    {
      "cell_type": "code",
      "source": [
        "                                                                                #Coding Problems#"
      ],
      "metadata": {
        "id": "-kEdDCpIUCb6"
      },
      "execution_count": null,
      "outputs": []
    },
    {
      "cell_type": "code",
      "source": [
        "'''\n",
        "Q76. Write a Python program to find the factorial of a given number.\n",
        "'''\n",
        "def factorial(n):\n",
        "  if n==0 or n==1:\n",
        "    return 1\n",
        "  else:\n",
        "    f=1\n",
        "    for i in range(2,n+1):\n",
        "      f=f*i\n",
        "    return f\n",
        "n=int(input(\"Enter a number:\"))\n",
        "ans=factorial(n)\n",
        "print(\"The factorial is: \",ans)\n"
      ],
      "metadata": {
        "colab": {
          "base_uri": "https://localhost:8080/"
        },
        "id": "F3gvGWWpUMp4",
        "outputId": "3957ebb3-23d1-4dc7-a5c2-9bd2ea31279f"
      },
      "execution_count": null,
      "outputs": [
        {
          "output_type": "stream",
          "name": "stdout",
          "text": [
            "Enter a number:5\n",
            "The factorial is:  120\n"
          ]
        }
      ]
    },
    {
      "cell_type": "code",
      "source": [
        "'''\n",
        "Q77. Write a Python program to calculate the simple interest. Formula to calculate simple interest is SI = (PRT)/100\n",
        "'''\n",
        "P=int(input(\"Enter the value of P:\"))\n",
        "R=int(input(\"Enter the value of R:\"))\n",
        "T=int(input(\"Enter the value of T:\"))\n",
        "SI=(P*R*T)/100\n",
        "print(\"The SI is:\",SI)"
      ],
      "metadata": {
        "colab": {
          "base_uri": "https://localhost:8080/"
        },
        "id": "r9BIzqCFVmF4",
        "outputId": "005adf4f-1364-4274-f488-418934603de5"
      },
      "execution_count": null,
      "outputs": [
        {
          "output_type": "stream",
          "name": "stdout",
          "text": [
            "Enter the value of P:5\n",
            "Enter the value of R:10\n",
            "Enter the value of T:1\n",
            "The SI is: 0.5\n"
          ]
        }
      ]
    },
    {
      "cell_type": "code",
      "source": [
        "'''\n",
        "Q78. Write a Python program to calculate the compound interest. Formula of compound interest is A = P(1+ R/100)^t.\n",
        "'''\n",
        "P=int(input(\"Enter the value of P:\"))\n",
        "R=int(input(\"Enter the value of R:\"))\n",
        "T=int(input(\"Enter the value of T:\"))\n",
        "r=R/100\n",
        "a=P*(1+r)\n",
        "A=pow(a,T)\n",
        "print(\"The compund intrest is: \",A)"
      ],
      "metadata": {
        "colab": {
          "base_uri": "https://localhost:8080/"
        },
        "id": "nxU3yle5XLDe",
        "outputId": "46b14008-3cb0-4764-fe91-b15cc151bd76"
      },
      "execution_count": null,
      "outputs": [
        {
          "output_type": "stream",
          "name": "stdout",
          "text": [
            "Enter the value of P:5\n",
            "Enter the value of R:10\n",
            "Enter the value of T:12\n",
            "The compund intrest is:  766217865.4104004\n"
          ]
        }
      ]
    },
    {
      "cell_type": "code",
      "source": [
        "'''\n",
        "Q79. Write a Python program to check if a number is prime or not.\n",
        "'''\n",
        "n=int(input(\"Enter a number:\"))\n",
        "for i in range(2,n):\n",
        "  if n%i==0:\n",
        "    print(\"Not a prime\")\n",
        "    break\n",
        "  else:\n",
        "    print(\"It is a prime\")\n",
        "    break"
      ],
      "metadata": {
        "colab": {
          "base_uri": "https://localhost:8080/"
        },
        "id": "_hLwwPq8YiNX",
        "outputId": "2fdbf7bf-d542-44e0-8c0d-fb3b8c1e21ed"
      },
      "execution_count": null,
      "outputs": [
        {
          "output_type": "stream",
          "name": "stdout",
          "text": [
            "Enter a number:20\n",
            "Not a prime\n"
          ]
        }
      ]
    },
    {
      "cell_type": "code",
      "source": [
        "'''\n",
        "Q80. Write a Python program to check Armstrong Number.\n",
        "'''\n",
        "n=int(input(\"Enter a number:\"))\n",
        "temp=n\n",
        "arm=0\n",
        "while temp>0:\n",
        "  #arm=0\n",
        "  r=temp%10\n",
        "  #print(r)\n",
        "  arm=arm+pow(r,3)\n",
        " #print(arm,\"<---Arm\")\n",
        "  temp=temp//10\n",
        "if n==arm:\n",
        "  print(\"It is a armstrong number\")\n",
        "else:\n",
        "  print(\"Not a armstrong number\")"
      ],
      "metadata": {
        "colab": {
          "base_uri": "https://localhost:8080/"
        },
        "id": "v4St2_2ac6qM",
        "outputId": "35a78402-018b-46fe-da73-44331661929c"
      },
      "execution_count": null,
      "outputs": [
        {
          "output_type": "stream",
          "name": "stdout",
          "text": [
            "Enter a number:407\n",
            "It is a armstrong number\n"
          ]
        }
      ]
    },
    {
      "cell_type": "code",
      "source": [
        "'''\n",
        "Q81. Write a Python program to find the n-th Fibonacci Number.\n",
        "'''\n",
        "n=int(input(\"Enter a number:\"))\n",
        "a=0\n",
        "b=1\n",
        "#print(a,\"\\n\",b)\n",
        "if n<0:\n",
        "  print(\"Incorrect input\")\n",
        "elif n==0:\n",
        "  print(\"0\")\n",
        "elif n==1:\n",
        "  print(\"1\")\n",
        "else:\n",
        "  print(a)\n",
        "  print(b)\n",
        "  for i in range(2,n+1):\n",
        "    c=a+b\n",
        "    a=b\n",
        "    b=c\n",
        "    print(c)\n",
        "#print(c)"
      ],
      "metadata": {
        "id": "RqNgsARnmGSa",
        "colab": {
          "base_uri": "https://localhost:8080/"
        },
        "outputId": "5c1a214e-eb06-420a-b70d-715465c16fbe"
      },
      "execution_count": null,
      "outputs": [
        {
          "output_type": "stream",
          "name": "stdout",
          "text": [
            "Enter a number:9\n",
            "0\n",
            "1\n",
            "1\n",
            "2\n",
            "3\n",
            "5\n",
            "8\n",
            "13\n",
            "21\n",
            "34\n"
          ]
        }
      ]
    },
    {
      "cell_type": "code",
      "source": [
        "'''\n",
        "Q82. Write a Python program to interchange the first and last element in a list.\n",
        "'''\n",
        "n=int(input(\"Enter the total elements:\"))\n",
        "l=[]\n",
        "for i in range(n):\n",
        "  i=int(input())\n",
        "  l.append(i)\n",
        "print(\"List before swapping\",l)\n",
        "\"\"\"temp=l[0]\n",
        "l[0]=l[-1]\n",
        "l[-1]=temp\"\"\"\n",
        "l[0],l[-1]=l[-1],l[0]\n",
        "print(\"List After swapping\",l)"
      ],
      "metadata": {
        "colab": {
          "base_uri": "https://localhost:8080/"
        },
        "id": "h8_XK0CstsEb",
        "outputId": "1bcb116f-5fd7-4ee2-fa72-fd3b711d7419"
      },
      "execution_count": null,
      "outputs": [
        {
          "output_type": "stream",
          "name": "stdout",
          "text": [
            "Enter the total elements:3\n",
            "1\n",
            "2\n",
            "3\n",
            "List before swapping [1, 2, 3]\n",
            "List After swapping [3, 2, 1]\n"
          ]
        }
      ]
    },
    {
      "cell_type": "code",
      "source": [
        "'''\n",
        "Q83. Write a Python program to swap two elements in a list.\n",
        "'''\n",
        "l=[]\n",
        "n=int(input(\"Enter the total elements\"))\n",
        "for i in range(1,n+1):\n",
        "  i=input()\n",
        "  l.append(i)\n",
        "print(\"The list before swapping\",l)\n",
        "a=int(input(\"Enter the first psoition to be swapped \"))\n",
        "b=int(input(\"Enter the second position to be swapped with first one \"))\n",
        "l[a],l[b]=l[b],l[a]\n",
        "print(\"The list after swappping two elements\",l)"
      ],
      "metadata": {
        "colab": {
          "base_uri": "https://localhost:8080/"
        },
        "id": "_rQk2GPc0Ujb",
        "outputId": "3fd72d03-00bf-451d-c6b1-9877f49af235"
      },
      "execution_count": null,
      "outputs": [
        {
          "output_type": "stream",
          "name": "stdout",
          "text": [
            "Enter the total elements5\n",
            "Raj\n",
            "1\n",
            "99\n",
            "S\n",
            "Madhesh\n",
            "The list before swapping ['Raj', '1', '99', 'S', 'Madhesh']\n",
            "Enter the first psoition to be swapped 0\n",
            "Enter the second position to be swapped with first one 4\n",
            "The list after swappping two elements ['Madhesh', '1', '99', 'S', 'Raj']\n"
          ]
        }
      ]
    },
    {
      "cell_type": "code",
      "source": [
        "'''\n",
        "Q84. Write a Python program to find N largest element from a list.\n",
        "'''\n",
        "n=int(input(\"Enter the total elements:\"))\n",
        "l=[]\n",
        "for i in range(n):\n",
        "  i=int(input())\n",
        "  l.append(i)\n",
        "temp=l[0]\n",
        "for i in l:\n",
        "    if temp<i:\n",
        "      max=i\n",
        "    else:\n",
        "      max=temp\n",
        "print('Maximum element in a list is:',max)"
      ],
      "metadata": {
        "colab": {
          "base_uri": "https://localhost:8080/"
        },
        "id": "r7SUiAbK_WkN",
        "outputId": "35e98187-8754-41d1-e028-ddee05bdd3ed"
      },
      "execution_count": null,
      "outputs": [
        {
          "output_type": "stream",
          "name": "stdout",
          "text": [
            "Enter the total elements:5\n",
            "500\n",
            "2\n",
            "320\n",
            "88\n",
            "45\n",
            "Maximum element in a list is: 500\n"
          ]
        }
      ]
    },
    {
      "cell_type": "code",
      "source": [
        "'''\n",
        "Q85. Write a Python program to find cumulative sum of a list.\n",
        "'''\n",
        "n=int(input(\"Enter the total elements:\"))\n",
        "l=[]\n",
        "ans=[]\n",
        "sum=0\n",
        "for i in range(n):\n",
        "  i=int(input())\n",
        "  l.append(i)\n",
        "for i in range(0,n):\n",
        "  sum=sum+l[i]\n",
        "  ans.append(sum)\n",
        "'''for i in l:\n",
        "  sum=sum+i'''\n",
        "print(\"The Cummilative sum of a list is:\",ans)"
      ],
      "metadata": {
        "colab": {
          "base_uri": "https://localhost:8080/"
        },
        "id": "YL5NV4ceFDyO",
        "outputId": "76b71b2e-2d76-4c83-a9ee-b606d507929c"
      },
      "execution_count": null,
      "outputs": [
        {
          "output_type": "stream",
          "name": "stdout",
          "text": [
            "Enter the total elements:5\n",
            "10\n",
            "20\n",
            "30\n",
            "40\n",
            "50\n",
            "The Cummilative sum of a list is: [10, 30, 60, 100, 150]\n"
          ]
        }
      ]
    },
    {
      "cell_type": "code",
      "source": [
        "'''\n",
        "Q86. Write a Python program to check if a number is palindrome or not.\n",
        "'''\n",
        "n=int(input())\n",
        "temp=n\n",
        "rev=0\n",
        "while temp>0:\n",
        "  rem=temp%10\n",
        "  rev=rev*10+rem\n",
        "  temp=temp//10\n",
        "#print(int(rev))\n",
        "if(n==rev):\n",
        "  print(n,\"is a Palindrome number\")\n",
        "else:\n",
        "  print(n,\"is not a Palindrome number\")"
      ],
      "metadata": {
        "id": "690tuxg_KdVf",
        "colab": {
          "base_uri": "https://localhost:8080/"
        },
        "outputId": "f477cfe7-443b-4916-d9cd-da7be0174702"
      },
      "execution_count": null,
      "outputs": [
        {
          "output_type": "stream",
          "name": "stdout",
          "text": [
            "202\n",
            "202 is a Palindrome number\n"
          ]
        }
      ]
    },
    {
      "cell_type": "code",
      "source": [
        "'''\n",
        "Q86. Write a Python program to check if a string is palindrome or not.\n",
        "'''\n",
        "n=input()\n",
        "temp=n\n",
        "rev=temp[::-1]\n",
        "if(n==rev):\n",
        "  print(n,\"is a Palindrome\")\n",
        "else:\n",
        "  print(n,\"is not a Palindrome\")"
      ],
      "metadata": {
        "id": "ox_L36lxLqhQ",
        "colab": {
          "base_uri": "https://localhost:8080/"
        },
        "outputId": "576f6ba0-d4f5-480e-a171-411335d67fef"
      },
      "execution_count": null,
      "outputs": [
        {
          "output_type": "stream",
          "name": "stdout",
          "text": [
            "mom\n",
            "mom is a Palindrome\n"
          ]
        }
      ]
    },
    {
      "cell_type": "code",
      "source": [
        "'''\n",
        "Q87. Write a Python program to remove i'th element from a string.\n",
        "'''\n",
        "\n",
        "string=input()\n",
        "i=int(input(\"Enter the i'th element\"))\n",
        "after_removal=string.replace(string[i],\"\")\n",
        "print(\"After removal: \",after_removal)"
      ],
      "metadata": {
        "colab": {
          "base_uri": "https://localhost:8080/"
        },
        "id": "Lj1Ay04Bsric",
        "outputId": "625e07bc-6fa8-4d50-d92d-6b7cead21ab9"
      },
      "execution_count": null,
      "outputs": [
        {
          "output_type": "stream",
          "name": "stdout",
          "text": [
            "Manoj Singh\n",
            "Enter the i'th element4\n",
            "After removal:  Mano Singh\n"
          ]
        }
      ]
    },
    {
      "cell_type": "code",
      "source": [
        "'''\n",
        "Q88. Write a Python program to check if a substring is present in a given string.\n",
        "'''\n",
        "string=input(\"Enter a string: \")\n",
        "word=input(\"Enter a substring: \")\n",
        "if word in string:\n",
        "  print(word,\"is present inside\",string)\n",
        "else:\n",
        "  print(word,\"is Not present inside\",string)"
      ],
      "metadata": {
        "colab": {
          "base_uri": "https://localhost:8080/"
        },
        "id": "R7ZW4WZdt-8J",
        "outputId": "6fc1891e-36e9-496d-9a1b-b3355a96cb0b"
      },
      "execution_count": null,
      "outputs": [
        {
          "output_type": "stream",
          "name": "stdout",
          "text": [
            "Enter a string: Hima Deo\n",
            "Enter a substring: Raj\n",
            "Raj is Not present inside Hima Deo\n"
          ]
        }
      ]
    },
    {
      "cell_type": "code",
      "source": [
        "'''\n",
        "Q89. Write a Python program to find words which are greater than given length k.\n",
        "'''\n",
        "n=input(\"Enter the sentence: \")\n",
        "s=list(n.split(\" \"))\n",
        "#print(s)\n",
        "k=int(input(\"Enter the lenght of k:\"))\n",
        "for i in s:\n",
        "  if len(i)>k:\n",
        "    print(\"The words that are greater than length k are: \",i)"
      ],
      "metadata": {
        "id": "-DQNzBspyaLY",
        "colab": {
          "base_uri": "https://localhost:8080/"
        },
        "outputId": "9498da0f-92bc-420a-db39-4aa71f24f3fb"
      },
      "execution_count": null,
      "outputs": [
        {
          "output_type": "stream",
          "name": "stdout",
          "text": [
            "Enter the sentence: I have enrolled for Big data bootcamp 2.0.\n",
            "Enter the lenght of k:3\n",
            "The words that are greater than length k are:  have\n",
            "The words that are greater than length k are:  enrolled\n",
            "The words that are greater than length k are:  data\n",
            "The words that are greater than length k are:  bootcamp\n",
            "The words that are greater than length k are:  2.0.\n"
          ]
        }
      ]
    },
    {
      "cell_type": "code",
      "source": [
        "'''\n",
        "Q90. Write a Python program to extract unquire dictionary values.\n",
        "'''\n",
        "d={\"Bat\":13,\"Ball\":15,\"Gloves\":13,\"Abdomen\":14,\"Stump\":3}\n",
        "l=[]\n",
        "for v in d.values():\n",
        "  l.append(v)\n",
        "s=set(l)\n",
        "ans=list(s)\n",
        "print(\"The unique values in the Dictionary are:\",ans)  "
      ],
      "metadata": {
        "colab": {
          "base_uri": "https://localhost:8080/"
        },
        "id": "Xb6Sj74DqqI_",
        "outputId": "38599620-6c91-4d2d-fe46-b40e45fb3981"
      },
      "execution_count": null,
      "outputs": [
        {
          "output_type": "stream",
          "name": "stdout",
          "text": [
            "The unique values in the Dictionary are: [3, 13, 14, 15]\n"
          ]
        }
      ]
    },
    {
      "cell_type": "code",
      "source": [
        "'''\n",
        "Q91. Write a Python program to merge two dictionary.\n",
        "'''\n",
        "d1={\"Bat\":13,\"Ball\":15,\"Gloves\":13,\"Abdomen\":14,\"Stump\":3}\n",
        "d2={\"Medical_kit\":5,\"Referee\":3}\n",
        "#d1.update(d2)\n",
        "d3={**d1,**d2}\n",
        "print(d3)"
      ],
      "metadata": {
        "colab": {
          "base_uri": "https://localhost:8080/"
        },
        "id": "UAvYrUmGuHqe",
        "outputId": "66220a77-8946-4143-99a3-fb31cfdc82cf"
      },
      "execution_count": null,
      "outputs": [
        {
          "output_type": "stream",
          "name": "stdout",
          "text": [
            "{'Bat': 13, 'Ball': 15, 'Gloves': 13, 'Abdomen': 14, 'Stump': 3, 'Medical_kit': 5, 'Referee': 3}\n"
          ]
        }
      ]
    },
    {
      "cell_type": "code",
      "source": [
        "'''\n",
        "Q92. Write a Python program to convert a list of tuples into dictionary.\n",
        "\n",
        "Input : [('Sachin', 10), ('MSD', 7), ('Kohli', 18), ('Rohit', 45)]\n",
        "Output : {'Sachin': 10, 'MSD': 7, 'Kohli': 18, 'Rohit': 45}\n",
        "'''\n",
        "Input=[('Sachin', 10), ('MSD', 7), ('Kohli', 18), ('Rohit', 45)]\n",
        "d=dict(Input)\n",
        "print(\"In dictionary format is :\",d)"
      ],
      "metadata": {
        "colab": {
          "base_uri": "https://localhost:8080/"
        },
        "id": "d9n72-2Iv81A",
        "outputId": "658d4796-1720-4a31-8031-81f27bb4573c"
      },
      "execution_count": null,
      "outputs": [
        {
          "output_type": "stream",
          "name": "stdout",
          "text": [
            "In dictionary format is : {'Sachin': 10, 'MSD': 7, 'Kohli': 18, 'Rohit': 45}\n"
          ]
        }
      ]
    },
    {
      "cell_type": "code",
      "source": [
        "'''\n",
        "Q93. Write a Python program to create a list of tuples from given list having number and its cube in each tuple.\n",
        "\n",
        "Input: list = [9, 5, 6]\n",
        "Output: [(9, 729), (5, 125), (6, 216)]\n",
        "'''\n",
        "l=[9,5,6]\n",
        "tl=[]\n",
        "for i in l:\n",
        "  t=(i,(i**3))\n",
        "  tl.append(t)\n",
        "print(tl)"
      ],
      "metadata": {
        "colab": {
          "base_uri": "https://localhost:8080/"
        },
        "id": "Y6APIOTc3t9t",
        "outputId": "b0cbd0f9-d654-47df-e398-ab4de840a7cc"
      },
      "execution_count": null,
      "outputs": [
        {
          "output_type": "stream",
          "name": "stdout",
          "text": [
            "[(9, 729), (5, 125), (6, 216)]\n"
          ]
        }
      ]
    },
    {
      "cell_type": "code",
      "source": [
        "'''\n",
        "Q94. Write a Python program to get all combinations of 2 tuples.\n",
        "\n",
        "Input : test_tuple1 = (7, 2), test_tuple2 = (7, 8)\n",
        "Output : [(7, 7), (7, 8), (2, 7), (2, 8), (7, 7), (7, 2), (8, 7), (8, 2)]\n",
        "'''\n",
        "from itertools import product,chain\n",
        "t1 = (7, 2)\n",
        "t2 = (7, 8)\n",
        "result = list(chain(product(t1, t2), product(t2, t1))) \n",
        "result\n"
      ],
      "metadata": {
        "colab": {
          "base_uri": "https://localhost:8080/"
        },
        "id": "nP6VOAF_5Ois",
        "outputId": "a333e097-fada-479f-a9c4-2e5135524124"
      },
      "execution_count": null,
      "outputs": [
        {
          "output_type": "execute_result",
          "data": {
            "text/plain": [
              "[(7, 7), (7, 8), (2, 7), (2, 8), (7, 7), (7, 2), (8, 7), (8, 2)]"
            ]
          },
          "metadata": {},
          "execution_count": 44
        }
      ]
    },
    {
      "cell_type": "code",
      "source": [
        "'''\n",
        "Q95. Write a Python program to sort a list of tuples by second item.\n",
        "\n",
        "Input : [('for', 24), ('Geeks', 8), ('Geeks', 30)] \n",
        "Output : [('Geeks', 8), ('for', 24), ('Geeks', 30)]\n",
        "'''\n",
        "l1=[('for', 24), ('Geeks', 8), ('Geeks', 30)]\n",
        "print(\"Original tuple: \",l1,\"\\n\")\n",
        "l1.sort()\n",
        "print(\"Sorted list of first element: \",l1,\"\\n\")\n",
        "\n",
        "l1.sort(key=lambda item2:item2[1])\n",
        "print(\"Sorted list of Second element: \",l1,\"\\n\")"
      ],
      "metadata": {
        "colab": {
          "base_uri": "https://localhost:8080/"
        },
        "id": "M1lJCMD19i1_",
        "outputId": "2c0d0f6b-8886-40b3-ac01-a279f894ca16"
      },
      "execution_count": null,
      "outputs": [
        {
          "output_type": "stream",
          "name": "stdout",
          "text": [
            "Original tuple:  [('for', 24), ('Geeks', 8), ('Geeks', 30)] \n",
            "\n",
            "Sorted list of first element:  [('Geeks', 8), ('Geeks', 30), ('for', 24)] \n",
            "\n",
            "Sorted list of Second element:  [('Geeks', 8), ('for', 24), ('Geeks', 30)] \n",
            "\n"
          ]
        }
      ]
    },
    {
      "cell_type": "code",
      "source": [
        "'''\n",
        "Q96. Write a python program to print below pattern.\n",
        "\n",
        "* \n",
        "* * \n",
        "* * * \n",
        "* * * * \n",
        "* * * * * \n",
        "'''\n",
        "n=int(input(\"Enter the total rows:\"))\n",
        "m=int(input(\"Enter the total columns:\"))\n",
        "for i in range(n):\n",
        "  for j in range(i+1):\n",
        "    print(\" * \",end=\"\")\n",
        "  print()"
      ],
      "metadata": {
        "colab": {
          "base_uri": "https://localhost:8080/"
        },
        "id": "wL3bnyTQrpX5",
        "outputId": "c04ed9a1-03dc-42c2-b946-832716051ff2"
      },
      "execution_count": null,
      "outputs": [
        {
          "output_type": "stream",
          "name": "stdout",
          "text": [
            "Enter the total rows:5\n",
            "Enter the total columns:5\n",
            " * \n",
            " *  * \n",
            " *  *  * \n",
            " *  *  *  * \n",
            " *  *  *  *  * \n"
          ]
        }
      ]
    },
    {
      "cell_type": "code",
      "source": [
        "'''\n",
        "Q97. Write a python program to print below pattern.\n",
        "\n",
        "    *\n",
        "   **\n",
        "  ***\n",
        " ****\n",
        "*****\n",
        "'''\n",
        "n,m=map(int,input(\"Enter the number of rows and columns: \").split(\" \"))\n",
        "for i in range(n+1):\n",
        "  for j in range(m+1):\n",
        "    if j>=m-i:\n",
        "      print(\"*\",end=\" \")\n",
        "    else:\n",
        "      print(\" \",end=\" \")\n",
        "  print()"
      ],
      "metadata": {
        "colab": {
          "base_uri": "https://localhost:8080/"
        },
        "id": "lFT3udBUw5l9",
        "outputId": "d3c98c6e-9a52-4d9d-ed27-90ed4688d357"
      },
      "execution_count": null,
      "outputs": [
        {
          "output_type": "stream",
          "name": "stdout",
          "text": [
            "Enter the number of rows and columns: 5 5\n",
            "          * \n",
            "        * * \n",
            "      * * * \n",
            "    * * * * \n",
            "  * * * * * \n",
            "* * * * * * \n"
          ]
        }
      ]
    },
    {
      "cell_type": "code",
      "source": [
        "'''\n",
        "Q98. Write a python program to print below pattern.\n",
        "\n",
        "    * \n",
        "   * * \n",
        "  * * * \n",
        " * * * * \n",
        "* * * * * \n",
        "'''\n",
        "n=int(input(\"Enter the total rows: \"))\n",
        "for i in range(n):\n",
        "  for j in range(n-i-1):\n",
        "    print(\" \",end=\"\")\n",
        "  for j in range(i+1):\n",
        "    print(\"*\",end=\" \")\n",
        "  print()"
      ],
      "metadata": {
        "colab": {
          "base_uri": "https://localhost:8080/"
        },
        "id": "ghEY52iy9_QP",
        "outputId": "e3b82060-1018-4b00-b8f2-a889f6490286"
      },
      "execution_count": null,
      "outputs": [
        {
          "output_type": "stream",
          "name": "stdout",
          "text": [
            "Enter the total rows: 5\n",
            "    * \n",
            "   * * \n",
            "  * * * \n",
            " * * * * \n",
            "* * * * * \n"
          ]
        }
      ]
    },
    {
      "cell_type": "code",
      "source": [
        "'''\n",
        "Q99. Write a python program to print below pattern.\n",
        "\n",
        "1 \n",
        "1 2 \n",
        "1 2 3 \n",
        "1 2 3 4 \n",
        "1 2 3 4 5\n",
        "'''\n",
        "n=int(input(\"Enter the total rows: \"))\n",
        "for i in range(1,n+1):\n",
        "  for j in range(1,i+1):\n",
        "    print(j,end=\" \")\n",
        "  print()"
      ],
      "metadata": {
        "colab": {
          "base_uri": "https://localhost:8080/"
        },
        "id": "KuJaPriVDWER",
        "outputId": "744dfc9f-8418-4d83-81c6-f9e97c56d98e"
      },
      "execution_count": null,
      "outputs": [
        {
          "output_type": "stream",
          "name": "stdout",
          "text": [
            "Enter the total rows: 5\n",
            "1 \n",
            "1 2 \n",
            "1 2 3 \n",
            "1 2 3 4 \n",
            "1 2 3 4 5 \n"
          ]
        }
      ]
    },
    {
      "cell_type": "code",
      "source": [
        "'''\n",
        "Q100. Write a python program to print below pattern.\n",
        "\n",
        "A \n",
        "B B \n",
        "C C C \n",
        "D D D D \n",
        "E E E E E \n",
        "'''\n",
        "n=int(input(\"Enter the total rows: \"))\n",
        "asci=65\n",
        "for i in range(0,n):\n",
        "  for j in range(i+1):\n",
        "    val=chr(asci)\n",
        "    print(val,end=\" \")\n",
        "  asci=asci+1\n",
        "  print()"
      ],
      "metadata": {
        "colab": {
          "base_uri": "https://localhost:8080/"
        },
        "id": "Au-tjUSKEW8S",
        "outputId": "d137fa55-9b0b-4167-9952-3ad8a7c1dedd"
      },
      "execution_count": null,
      "outputs": [
        {
          "output_type": "stream",
          "name": "stdout",
          "text": [
            "Enter the total rows: 5\n",
            "A \n",
            "B B \n",
            "C C C \n",
            "D D D D \n",
            "E E E E E \n"
          ]
        }
      ]
    }
  ]
}