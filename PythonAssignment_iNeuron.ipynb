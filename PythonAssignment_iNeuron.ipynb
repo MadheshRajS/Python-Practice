{
  "nbformat": 4,
  "nbformat_minor": 0,
  "metadata": {
    "colab": {
      "provenance": [],
      "collapsed_sections": []
    },
    "kernelspec": {
      "name": "python3",
      "display_name": "Python 3"
    },
    "language_info": {
      "name": "python"
    }
  },
  "cells": [
    {
      "cell_type": "code",
      "source": [
        "'''Name:Madhesh Raj S\n",
        "   MailId:madheshraj.new1@gmail.com\n",
        "'''"
      ],
      "metadata": {
        "id": "W7rdEqPyNDBO"
      },
      "execution_count": null,
      "outputs": []
    },
    {
      "cell_type": "code",
      "execution_count": null,
      "metadata": {
        "id": "pjwp_QeWuEcV"
      },
      "outputs": [],
      "source": [
        "'''Q1. Why do we call Python as a general purpose and high-level programming language?\n",
        "            Python is considered as a general purpose language as it is widley used in applicaiton such as data science,web development,machine learning,etc.\n",
        "            It is called as a high level language as it an interpreted language and it is easy for humans to understand.'''"
      ]
    },
    {
      "cell_type": "code",
      "source": [
        "'''Q2. Why is Python called a dynamically typed language?\n",
        "            It is called as dynmaically types langauge as it doesnt know about the type of variable until the code is run.'''"
      ],
      "metadata": {
        "id": "AzvZBKAe1TUg"
      },
      "execution_count": null,
      "outputs": []
    },
    {
      "cell_type": "code",
      "source": [
        "'''Q3. List some pros and cons of Python programming language?\n",
        "Pro\n",
        "            Easy to use and fast to develop\n",
        "            Has many libraries\n",
        "Cons\n",
        "            No Multithreading\n",
        "            High memory consumption '''"
      ],
      "metadata": {
        "id": "MFhC1_mY1qeG"
      },
      "execution_count": null,
      "outputs": []
    },
    {
      "cell_type": "code",
      "source": [
        "''' Q4. In what all domains can we use Python?\n",
        "            DataScience\n",
        "            Machine Learning\n",
        "            Artifical Intelligence\n",
        "            Web Development\n",
        "            Deep Learning '''"
      ],
      "metadata": {
        "id": "aCRmPTSW2QTM"
      },
      "execution_count": null,
      "outputs": []
    },
    {
      "cell_type": "code",
      "source": [
        "'''Q5. What are variable and how can we declare them?\n",
        "            In python we dont neet to decalre a variable,A variable will be created at a moment when we assign a value to it\n",
        "            a='Raj' #string\n",
        "            b=7 #int\n",
        "            c=7.0 #float "
      ],
      "metadata": {
        "id": "xPlm2A5h2thq"
      },
      "execution_count": null,
      "outputs": []
    },
    {
      "cell_type": "code",
      "source": [
        "'''Q6. How can we take an input from the user in Python?\n",
        "            By using the python function called \"input()\"  '''\n",
        "Name=input(\"Enter the name\")\n",
        "Age=int(input(\"Enter the age\"))"
      ],
      "metadata": {
        "colab": {
          "base_uri": "https://localhost:8080/"
        },
        "id": "L2JhVn5y3a32",
        "outputId": "380129e0-c4eb-41e6-89ca-631bc84a4e2e"
      },
      "execution_count": null,
      "outputs": [
        {
          "name": "stdout",
          "output_type": "stream",
          "text": [
            "Enter the nameMadhesh Raj\n",
            "Enter the age23\n"
          ]
        }
      ]
    },
    {
      "cell_type": "code",
      "source": [
        "'''Q7. What is the default datatype of the value that has been taken as an input using input() function?\n",
        "            By default the input() function data type will be of \"string\" datatype. '''"
      ],
      "metadata": {
        "id": "qbWB84i535rD"
      },
      "execution_count": null,
      "outputs": []
    },
    {
      "cell_type": "code",
      "source": [
        "'''Q8. What is type casting?\n",
        "            Type casting is used to convert from one type to another type.Let us consider if the variable a=10 we can convert the varibale a to string \n",
        "            by using str function eg:aa=str(a) then the integer data type will be converted into string datatype.'''"
      ],
      "metadata": {
        "id": "-ewPqYg45N7N"
      },
      "execution_count": null,
      "outputs": []
    },
    {
      "cell_type": "code",
      "source": [
        "'''Q9. Can we take more than one input from the user using single input() function? If yes, how? If no, why?\n",
        "            No,We cant get multiple inputs with the help of single input() function but with the help of split() function we can achieve it.\n",
        "            x,y=input().split() #it will endind up by taking the two inputs.'''"
      ],
      "metadata": {
        "id": "nIoA80ZJ5wVt"
      },
      "execution_count": null,
      "outputs": []
    },
    {
      "cell_type": "code",
      "source": [
        "'''Q10. What are keywords?\n",
        "            Keyswords are specially reserved words in python the key words are (and,or,if,else,True,False) '''"
      ],
      "metadata": {
        "id": "j2MdoIS387gk"
      },
      "execution_count": null,
      "outputs": []
    },
    {
      "cell_type": "code",
      "source": [
        "'''Q11. Can we use keywords as a variable? Support your answer with reason.\n",
        "            No keys words cant be used as a variable ,as it is used to define the syntax of the coding.'''"
      ],
      "metadata": {
        "id": "ge_IHa_o9SIq"
      },
      "execution_count": null,
      "outputs": []
    },
    {
      "cell_type": "code",
      "source": [
        "'''Q12. What is indentation? What's the use of indentaion in Python?\n",
        "            indentation means space at the begining of the code in python indentation is used to indicate the block of a code.'''"
      ],
      "metadata": {
        "id": "3gAaIJV99kyF"
      },
      "execution_count": null,
      "outputs": []
    },
    {
      "cell_type": "code",
      "source": [
        "'''Q13. How can we throw some output in Python?\n",
        "            In python the output can be throw with the help of print() fucntion\n",
        "            in terms of file it is achieved using write() function'''"
      ],
      "metadata": {
        "id": "VfLdLkEN90ZI"
      },
      "execution_count": null,
      "outputs": []
    },
    {
      "cell_type": "code",
      "source": [
        "'''Q14. What are operators in Python?\n",
        "            Operators are special symbols in Python that carry out arithmetic or logical computation.\n",
        "            Assignement operator(+,-,%,/,//)\n",
        "            Logical Operator(and , or ,not)\n",
        "            Comparison Operator(==,!=,<,>)\n",
        "            Bitwise operator(||,^)\n",
        "            \n",
        "'''"
      ],
      "metadata": {
        "id": "aHXSCfgi-wPZ"
      },
      "execution_count": null,
      "outputs": []
    },
    {
      "cell_type": "code",
      "source": [
        "''' Q15. What is difference between / and // operators?\n",
        "            / used for division result with floating point value\n",
        "            // is called as floor division and returns the value in integer\n",
        "            Eg:\n",
        "            10/3=3.3333333\n",
        "            10//3=3\n",
        "'''"
      ],
      "metadata": {
        "id": "HGIRBnHhCuau"
      },
      "execution_count": null,
      "outputs": []
    },
    {
      "cell_type": "code",
      "source": [
        "'''\n",
        "Q16. Write a code that gives following as an output.\n",
        "```\n",
        "iNeuroniNeuroniNeuroniNeuron\n",
        "```\n",
        "'''\n",
        "\n",
        "print('iNeuron'*4)"
      ],
      "metadata": {
        "colab": {
          "base_uri": "https://localhost:8080/"
        },
        "id": "mhHQc1b-DCkw",
        "outputId": "b809a7d1-a0e1-45f5-c047-28bc193ffa26"
      },
      "execution_count": null,
      "outputs": [
        {
          "output_type": "stream",
          "name": "stdout",
          "text": [
            "iNeuroniNeuroniNeuroniNeuron\n"
          ]
        }
      ]
    },
    {
      "cell_type": "code",
      "source": [
        "'''\n",
        "Q17. Write a code to take a number as an input from the user and check if the number is odd or even.\n",
        "'''\n",
        "n=int(input(\"Enter a number  \"))\n",
        "if n%2==0:\n",
        "  print(\"The given number\",n,\"is a even number\")\n",
        "else:\n",
        "  print(\"The given number\",n,\"is a odd number\")"
      ],
      "metadata": {
        "colab": {
          "base_uri": "https://localhost:8080/"
        },
        "id": "sHLze61GDSx6",
        "outputId": "391b19cc-14d3-432d-ad72-7e60deafb72f"
      },
      "execution_count": null,
      "outputs": [
        {
          "output_type": "stream",
          "name": "stdout",
          "text": [
            "Enter a number  2\n",
            "The given number 2 is a even number\n"
          ]
        }
      ]
    },
    {
      "cell_type": "code",
      "source": [
        "'''\n",
        "Q17. Write a code to take a number as an input from the user and check if the number is odd or even.\n",
        "'''\n",
        "n=int(input(\"Enter a number  \"))\n",
        "if n%2==0:\n",
        "  print(\"The given number\",n,\"is a even number\")\n",
        "else:\n",
        "  print(\"The given number\",n,\"is a odd number\")"
      ],
      "metadata": {
        "colab": {
          "base_uri": "https://localhost:8080/"
        },
        "id": "DJCmU5QDDwFx",
        "outputId": "96a644f0-e8c1-47d6-e14d-d78a59c98566"
      },
      "execution_count": null,
      "outputs": [
        {
          "output_type": "stream",
          "name": "stdout",
          "text": [
            "Enter a number  333\n",
            "The given number 333 is a odd number\n"
          ]
        }
      ]
    },
    {
      "cell_type": "code",
      "source": [
        "'''Q18. What are boolean operator?\n",
        "            Boolean operators are (AND,OR,NOT) which results in either True or False\n",
        "'''"
      ],
      "metadata": {
        "id": "Vjs-5mYHD6qu"
      },
      "execution_count": null,
      "outputs": []
    },
    {
      "cell_type": "code",
      "source": [
        "'''\n",
        "Q19. What will the output of the following?\n",
        "```\n",
        "                                    **Output**\n",
        "1 or 0                                #1\n",
        "\n",
        "0 and 0                               #0\n",
        "\n",
        "True and False and True               #False\n",
        "\n",
        "1 or 0 or 0                            #1\n",
        "```'''\n"
      ],
      "metadata": {
        "id": "5Y8QGY9LEKTe"
      },
      "execution_count": null,
      "outputs": []
    },
    {
      "cell_type": "code",
      "source": [
        "'''\n",
        "Q20. What are conditional statements in Python?\n",
        "              Decision-making in a programming language is automated using conditional statements\n",
        "              The conditions are evaluated and processed as true or false.\n",
        "              In python it contains as:If,elif,\n",
        "'''\n",
        "                "
      ],
      "metadata": {
        "id": "TtXW81pYEo5M"
      },
      "execution_count": null,
      "outputs": []
    },
    {
      "cell_type": "code",
      "source": [
        "'''\n",
        "Q21. What is use of 'if', 'elif' and 'else' keywords?\n",
        "          \"if\" keyword is used to create conditional statements and allows you to execute a block of code only if a condition is True\n",
        "          \"elif\" keyword is used in conditional statements and is short for else if.\n",
        "          \"else\" keyword is used in conditional statements and decides what to do if the condition is False.\n",
        "'''"
      ],
      "metadata": {
        "id": "Yi7a9vApJv3m"
      },
      "execution_count": null,
      "outputs": []
    },
    {
      "cell_type": "code",
      "source": [
        "'''Q22. Write a code to take the age of person as an input and if age >= 18 display \"I can vote\". If age is < 18 display \"I can't vote\".'''\n",
        "\n",
        "age=int(input(\"Enter the age: \"))\n",
        "if(age>18):\n",
        "  print(\"I can vote.\")\n",
        "elif age<18:\n",
        "  print(\"I can't vote\")\n",
        "else:\n",
        "  print(\"Enter a valid age\")"
      ],
      "metadata": {
        "colab": {
          "base_uri": "https://localhost:8080/"
        },
        "id": "asQypz0fqxxx",
        "outputId": "8eb944f5-1b66-472e-be9e-a2e6d92c3671"
      },
      "execution_count": null,
      "outputs": [
        {
          "output_type": "stream",
          "name": "stdout",
          "text": [
            "Enter the age: 10\n",
            "I can't vote\n"
          ]
        }
      ]
    },
    {
      "cell_type": "code",
      "source": [
        "'''Q22. Write a code to take the age of person as an input and if age >= 18 display \"I can vote\". If age is < 18 display \"I can't vote\".'''\n",
        "\n",
        "age=int(input(\"Enter the age: \"))\n",
        "if(age>18):\n",
        "  print(\"I can vote.\")\n",
        "elif age<18:\n",
        "  print(\"I can't vote\")\n",
        "else:\n",
        "  print(\"Enter a valid age\")"
      ],
      "metadata": {
        "colab": {
          "base_uri": "https://localhost:8080/"
        },
        "id": "Zq6yvRF7rJ-v",
        "outputId": "d976b1be-5140-4787-8591-ec118ce727d3"
      },
      "execution_count": null,
      "outputs": [
        {
          "output_type": "stream",
          "name": "stdout",
          "text": [
            "Enter the age: 23\n",
            "I can vote.\n"
          ]
        }
      ]
    },
    {
      "cell_type": "code",
      "source": [
        "'''\n",
        "Q23. Write a code that displays the sum of all the even numbers from the given list.\n",
        "```\n",
        "numbers = [12, 75, 150, 180, 145, 525, 50]\n",
        "```\n",
        "'''\n",
        "number=[12,75,150,180,145,525,50]\n",
        "even=[]\n",
        "for i in number:\n",
        "  if i%2==0:\n",
        "    even.append(i)\n",
        "print(\"The even number list is\",even)\n",
        "sum=0\n",
        "for ez in even:\n",
        "  sum=sum+ez\n",
        "print(\"The sum of all even numbers is \",sum)\n"
      ],
      "metadata": {
        "colab": {
          "base_uri": "https://localhost:8080/"
        },
        "id": "4f4ppjZVrOp1",
        "outputId": "163f5ab6-b16a-4201-f50a-e236645a6269"
      },
      "execution_count": null,
      "outputs": [
        {
          "output_type": "stream",
          "name": "stdout",
          "text": [
            "The even number list is [12, 150, 180, 50]\n",
            "The sum of all even numbers is  392\n"
          ]
        }
      ]
    },
    {
      "cell_type": "code",
      "source": [
        "'''\n",
        "Q24. Write a code to take 3 numbers as an input from the user and display the greatest no as output.\n",
        "\n",
        "'''\n",
        "a,b,c=input(\"Enter three numbers \").split()\n",
        "if int(a)>int(b) and int(a)>int(c):\n",
        "  print(\"The greatest among three numbers is \",a)\n",
        "elif int(b)>int(a) and int(b)>int(c):\n",
        "  print(\"The greatest among three numbers is \",b)\n",
        "else:\n",
        "  print(\"The greatest among three numbers is \",c)\n"
      ],
      "metadata": {
        "colab": {
          "base_uri": "https://localhost:8080/"
        },
        "id": "ZovB9I9Ir3-K",
        "outputId": "248c5a42-64a7-45e7-988d-2160c103b00b"
      },
      "execution_count": null,
      "outputs": [
        {
          "output_type": "stream",
          "name": "stdout",
          "text": [
            "Enter three numbers 5 84 1\n",
            "The greatest among three numbers is  84\n"
          ]
        }
      ]
    },
    {
      "cell_type": "code",
      "source": [
        "'''\n",
        "Q25. Write a program to display only those numbers from a list that satisfy the following conditions\n",
        "\n",
        "- The number must be divisible by five\n",
        "\n",
        "- If the number is greater than 150, then skip it and move to the next number\n",
        "\n",
        "- If the number is greater than 500, then stop the loop\n",
        "```\n",
        "numbers = [12, 75, 150, 180, 145, 525, 50]\n",
        "'''\n",
        "number=[12,75,150,180,145,525,50]\n",
        "ans=[]\n",
        "'''n=int(input(\"Enter the total number\"))\n",
        "for i in range(n):\n",
        "  input=input()'''\n",
        "for i in number:\n",
        "  if i >500:\n",
        "    break\n",
        "  elif i>150:\n",
        "    continue\n",
        "  elif i%5==0:\n",
        "    ans.append(i)\n",
        "print(ans)"
      ],
      "metadata": {
        "colab": {
          "base_uri": "https://localhost:8080/"
        },
        "id": "kbylNUOhsiEv",
        "outputId": "70afce05-ddb0-4d36-915f-3305667eb24f"
      },
      "execution_count": null,
      "outputs": [
        {
          "output_type": "stream",
          "name": "stdout",
          "text": [
            "[75, 150, 145]\n"
          ]
        }
      ]
    }
  ]
}